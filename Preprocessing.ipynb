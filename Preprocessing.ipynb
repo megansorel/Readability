{
 "cells": [
  {
   "cell_type": "markdown",
   "metadata": {},
   "source": [
    "# Readability of Text With Linguistic Features\n",
    "\n",
    "The current readability measures for text include mostly the length of sentences combined with the syllable length of words, as well as some examples of the syntax used to start a sentence. This is not enough to accurately understand how difficult a text is, many long sentences can be syntactically simple. Some texts may use easy words despite difficult syntax. \n",
    "\n",
    "This notebook will uses linguistic attributes to extract syntactic, morphological and semantic features from text to create more accurate measurements of difficulties of text regardless of length. "
   ]
  },
  {
   "cell_type": "markdown",
   "metadata": {},
   "source": [
    "1. [Syntax](#syntax)\n",
    "    1. [Subtree Measurements](#subtrees)\n",
    "    2. [Constituency Node Complexity](#nodes)\n",
    "2. [Morphology](#morph)\n",
    "    1. [Dependencies](#deps)\n",
    "    2. [Pronoun Measures](#pronouns)\n",
    "    3. [Morphological Complexity](#tagtypes)\n",
    "3. [Semantics](#sems)\n",
    "    1. [Word Frequency](#wordfreq)\n",
    "    2. [Lexical Diversity](#lexdiv)\n",
    "    3. [Topic Modeling with LDA](#topicmodel)"
   ]
  },
  {
   "cell_type": "code",
   "execution_count": 2,
   "metadata": {},
   "outputs": [],
   "source": [
    "# pip install benepar\n",
    "# pip install boto3\n",
    "# pip install wordfreq\n",
    "# pip install lexical-diversity\n",
    "# pip install readability"
   ]
  },
  {
   "cell_type": "code",
   "execution_count": 3,
   "metadata": {},
   "outputs": [],
   "source": [
    "import pandas as pd\n",
    "import numpy as np\n",
    "import matplotlib.pyplot as plt\n",
    "import spacy\n",
    "from spacy import displacy \n",
    "import seaborn as sns\n",
    "from collections import Counter\n",
    "from wordfreq import word_frequency\n",
    "from lexical_diversity import lex_div as ld\n",
    "import readability\n",
    "from sklearn.decomposition import LatentDirichletAllocation\n",
    "from sklearn.datasets import make_multilabel_classification\n",
    "from sklearn.feature_extraction.text import TfidfVectorizer\n",
    "import benepar\n",
    "nlp = spacy.load('en_core_web_sm', disable = ['ner'])\n",
    "if spacy.__version__.startswith('2'):\n",
    "    nlp.add_pipe(benepar.BeneparComponent(\"benepar_en3\"))\n",
    "else:\n",
    "    nlp.add_pipe(\"benepar\", config={\"model\": \"benepar_en3\"})\n",
    "import pickle"
   ]
  },
  {
   "cell_type": "markdown",
   "metadata": {},
   "source": [
    "**Load data files**"
   ]
  },
  {
   "cell_type": "code",
   "execution_count": 4,
   "metadata": {},
   "outputs": [],
   "source": [
    "train = pd.read_csv('./data/train.csv')\n",
    "test = pd.read_csv('./data/test.csv')"
   ]
  },
  {
   "cell_type": "markdown",
   "metadata": {},
   "source": [
    "**Make Dataframe with Old Readability Measures to Use as Baseline When Modeling**"
   ]
  },
  {
   "cell_type": "code",
   "execution_count": 5,
   "metadata": {},
   "outputs": [],
   "source": [
    "results = []\n",
    "\n",
    "for text in train.excerpt:\n",
    "    scores = (readability.getmeasures([text], lang='en'))\n",
    "    results.append(scores['readability grades']['FleschReadingEase'])"
   ]
  },
  {
   "cell_type": "code",
   "execution_count": 6,
   "metadata": {},
   "outputs": [
    {
     "data": {
      "text/html": [
       "<div>\n",
       "<style scoped>\n",
       "    .dataframe tbody tr th:only-of-type {\n",
       "        vertical-align: middle;\n",
       "    }\n",
       "\n",
       "    .dataframe tbody tr th {\n",
       "        vertical-align: top;\n",
       "    }\n",
       "\n",
       "    .dataframe thead th {\n",
       "        text-align: right;\n",
       "    }\n",
       "</style>\n",
       "<table border=\"1\" class=\"dataframe\">\n",
       "  <thead>\n",
       "    <tr style=\"text-align: right;\">\n",
       "      <th></th>\n",
       "      <th>results</th>\n",
       "      <th>target</th>\n",
       "    </tr>\n",
       "  </thead>\n",
       "  <tbody>\n",
       "    <tr>\n",
       "      <th>0</th>\n",
       "      <td>-79.300279</td>\n",
       "      <td>-0.340259</td>\n",
       "    </tr>\n",
       "    <tr>\n",
       "      <th>1</th>\n",
       "      <td>-69.068256</td>\n",
       "      <td>-0.315372</td>\n",
       "    </tr>\n",
       "    <tr>\n",
       "      <th>2</th>\n",
       "      <td>-68.230294</td>\n",
       "      <td>-0.580118</td>\n",
       "    </tr>\n",
       "    <tr>\n",
       "      <th>3</th>\n",
       "      <td>-60.216463</td>\n",
       "      <td>-1.054013</td>\n",
       "    </tr>\n",
       "    <tr>\n",
       "      <th>4</th>\n",
       "      <td>-29.272041</td>\n",
       "      <td>0.247197</td>\n",
       "    </tr>\n",
       "  </tbody>\n",
       "</table>\n",
       "</div>"
      ],
      "text/plain": [
       "     results    target\n",
       "0 -79.300279 -0.340259\n",
       "1 -69.068256 -0.315372\n",
       "2 -68.230294 -0.580118\n",
       "3 -60.216463 -1.054013\n",
       "4 -29.272041  0.247197"
      ]
     },
     "execution_count": 6,
     "metadata": {},
     "output_type": "execute_result"
    }
   ],
   "source": [
    "readability_results = pd.DataFrame({'results': results,\n",
    "                                   'target':train['target']})\n",
    "readability_results.head()"
   ]
  },
  {
   "cell_type": "code",
   "execution_count": 7,
   "metadata": {},
   "outputs": [],
   "source": [
    "readability_results.to_csv('./data/old_readability_train.csv', index = False)"
   ]
  },
  {
   "cell_type": "markdown",
   "metadata": {},
   "source": [
    "### Load in Training Data Which Was Already Run Through NLP Pipeline"
   ]
  },
  {
   "cell_type": "code",
   "execution_count": 8,
   "metadata": {},
   "outputs": [],
   "source": [
    "#************** Uncomment to load train.pkl into your file *************************\n",
    "\n",
    "# bucket = 'picklenlp'\n",
    "# key = 'train.pkl'\n",
    "\n",
    "# s3 = boto3.client(\n",
    "#                  \n",
    "#                  )\n",
    "\n",
    "# s3.download_file(Filename = 'train.pkl',\n",
    "#                      Bucket = bucket, \n",
    "#                      Key = key)"
   ]
  },
  {
   "cell_type": "code",
   "execution_count": 9,
   "metadata": {},
   "outputs": [
    {
     "name": "stderr",
     "output_type": "stream",
     "text": [
      "/opt/anaconda3/lib/python3.8/site-packages/torch/distributions/distribution.py:44: UserWarning: <class 'torch_struct.distributions.TreeCRF'> does not define `arg_constraints`. Please set `arg_constraints = {}` or initialize the distribution with `validate_args=False` to turn off validation.\n",
      "  warnings.warn(f'{self.__class__} does not define `arg_constraints`. ' +\n",
      "<ipython-input-9-25945bf0ebe8>:11: VisibleDeprecationWarning: Creating an ndarray from ragged nested sequences (which is a list-or-tuple of lists-or-tuples-or ndarrays with different lengths or shapes) is deprecated. If you meant to do this, you must specify 'dtype=object' when creating the ndarray\n",
      "  train['excerpt'] = np.array(loaded_object)\n"
     ]
    }
   ],
   "source": [
    "# Loading NLP versions of both files \n",
    "\n",
    "# run test data through pipeline \n",
    "test['excerpt'] = test['excerpt'].map(lambda x: nlp(x))\n",
    "\n",
    "# open file from dir after loading from aws or compiling in Compile_Data.ipynb\n",
    "file_to_read = open(\"train.pkl\", \"rb\")\n",
    "loaded_object = pickle.load(file_to_read)\n",
    "file_to_read.close()\n",
    "\n",
    "train['excerpt'] = np.array(loaded_object)"
   ]
  },
  {
   "cell_type": "markdown",
   "metadata": {},
   "source": [
    "**Saving the easiest and hardest sentences to use as reference**\n"
   ]
  },
  {
   "cell_type": "code",
   "execution_count": 10,
   "metadata": {},
   "outputs": [],
   "source": [
    "hardest_sentence = train.sort_values('target').head(1)['excerpt'].values\n",
    "\n",
    "easiest_sentence = train.sort_values('target', ascending=False).head(1)['excerpt'].values"
   ]
  },
  {
   "cell_type": "code",
   "execution_count": 11,
   "metadata": {},
   "outputs": [
    {
     "data": {
      "text/plain": [
       "When you think of dinosaurs and where they lived, what do you picture?"
      ]
     },
     "execution_count": 11,
     "metadata": {},
     "output_type": "execute_result"
    }
   ],
   "source": [
    "#example of first sentence in easiest excerpt\n",
    "[sent for sent in easiest_sentence[0].sents][0]"
   ]
  },
  {
   "cell_type": "code",
   "execution_count": 12,
   "metadata": {},
   "outputs": [
    {
     "data": {
      "text/plain": [
       "[The commutator is peculiar, consisting of only three segments of a copper ring, while in the simplest of other continuous current generators several times that number exist, and frequently 120!,\n",
       " segments are to be found.]"
      ]
     },
     "execution_count": 12,
     "metadata": {},
     "output_type": "execute_result"
    }
   ],
   "source": [
    "#example of first sentence in hardest excerpt\n",
    "[sent for sent in hardest_sentence[0].sents][:2]"
   ]
  },
  {
   "cell_type": "markdown",
   "metadata": {},
   "source": [
    "# Initial EDA"
   ]
  },
  {
   "cell_type": "code",
   "execution_count": 13,
   "metadata": {},
   "outputs": [
    {
     "data": {
      "image/png": "[encoded data removed]",
      "text/plain": [
       "<Figure size 864x288 with 2 Axes>"
      ]
     },
     "metadata": {
      "needs_background": "light"
     },
     "output_type": "display_data"
    }
   ],
   "source": [
    "fig, ax = plt.subplots(1, 2, figsize = (12, 4))\n",
    "ax[0].hist(train.standard_error)\n",
    "ax[0].set_title('Standard Error')\n",
    "ax[1].hist(train['target'])\n",
    "ax[1].set_title('Readability');"
   ]
  },
  {
   "cell_type": "markdown",
   "metadata": {},
   "source": [
    "**Interpretation**\n",
    "\n",
    "It seems that the readability has a normal distribution. The range of standard deviation is cenetered at about .5. It would be useful to create a model that focuses on feature importance and see what features contribute the most to the variation in readability opinions."
   ]
  },
  {
   "cell_type": "markdown",
   "metadata": {},
   "source": [
    "**Looking at Range for Readability Values**"
   ]
  },
  {
   "cell_type": "code",
   "execution_count": 14,
   "metadata": {},
   "outputs": [
    {
     "data": {
      "text/html": [
       "<div>\n",
       "<style scoped>\n",
       "    .dataframe tbody tr th:only-of-type {\n",
       "        vertical-align: middle;\n",
       "    }\n",
       "\n",
       "    .dataframe tbody tr th {\n",
       "        vertical-align: top;\n",
       "    }\n",
       "\n",
       "    .dataframe thead th {\n",
       "        text-align: right;\n",
       "    }\n",
       "</style>\n",
       "<table border=\"1\" class=\"dataframe\">\n",
       "  <thead>\n",
       "    <tr style=\"text-align: right;\">\n",
       "      <th></th>\n",
       "      <th>target</th>\n",
       "      <th>standard_error</th>\n",
       "    </tr>\n",
       "  </thead>\n",
       "  <tbody>\n",
       "    <tr>\n",
       "      <th>count</th>\n",
       "      <td>2834.000000</td>\n",
       "      <td>2834.000000</td>\n",
       "    </tr>\n",
       "    <tr>\n",
       "      <th>mean</th>\n",
       "      <td>-0.959319</td>\n",
       "      <td>0.491435</td>\n",
       "    </tr>\n",
       "    <tr>\n",
       "      <th>std</th>\n",
       "      <td>1.033579</td>\n",
       "      <td>0.034818</td>\n",
       "    </tr>\n",
       "    <tr>\n",
       "      <th>min</th>\n",
       "      <td>-3.676268</td>\n",
       "      <td>0.000000</td>\n",
       "    </tr>\n",
       "    <tr>\n",
       "      <th>25%</th>\n",
       "      <td>-1.690320</td>\n",
       "      <td>0.468543</td>\n",
       "    </tr>\n",
       "    <tr>\n",
       "      <th>50%</th>\n",
       "      <td>-0.912190</td>\n",
       "      <td>0.484721</td>\n",
       "    </tr>\n",
       "    <tr>\n",
       "      <th>75%</th>\n",
       "      <td>-0.202540</td>\n",
       "      <td>0.506268</td>\n",
       "    </tr>\n",
       "    <tr>\n",
       "      <th>max</th>\n",
       "      <td>1.711390</td>\n",
       "      <td>0.649671</td>\n",
       "    </tr>\n",
       "  </tbody>\n",
       "</table>\n",
       "</div>"
      ],
      "text/plain": [
       "            target  standard_error\n",
       "count  2834.000000     2834.000000\n",
       "mean     -0.959319        0.491435\n",
       "std       1.033579        0.034818\n",
       "min      -3.676268        0.000000\n",
       "25%      -1.690320        0.468543\n",
       "50%      -0.912190        0.484721\n",
       "75%      -0.202540        0.506268\n",
       "max       1.711390        0.649671"
      ]
     },
     "execution_count": 14,
     "metadata": {},
     "output_type": "execute_result"
    }
   ],
   "source": [
    "train[['target', 'standard_error']].describe()"
   ]
  },
  {
   "cell_type": "markdown",
   "metadata": {},
   "source": [
    "**Checking for Nulls**"
   ]
  },
  {
   "cell_type": "code",
   "execution_count": 15,
   "metadata": {},
   "outputs": [
    {
     "data": {
      "text/plain": [
       "id                   0\n",
       "url_legal         2004\n",
       "license           2004\n",
       "excerpt              0\n",
       "target               0\n",
       "standard_error       0\n",
       "dtype: int64"
      ]
     },
     "execution_count": 15,
     "metadata": {},
     "output_type": "execute_result"
    }
   ],
   "source": [
    "train.isna().sum()"
   ]
  },
  {
   "cell_type": "markdown",
   "metadata": {},
   "source": [
    "**Get Average Sentence Length Per Excerpt**"
   ]
  },
  {
   "cell_type": "code",
   "execution_count": 16,
   "metadata": {},
   "outputs": [],
   "source": [
    "def avg_length(text):\n",
    "    \n",
    "    '''\n",
    "    Returns the average number of words per sentence in a text\n",
    "    Paramets:\n",
    "    text: nlp doc type\n",
    "    '''\n",
    "    num_sentences = 0\n",
    "    total_words = 0\n",
    "    for sentence in text.sents:\n",
    "        num_sentences += 1\n",
    "        total_words += len([word for word in sentence])\n",
    "    avg = total_words / num_sentences\n",
    "    return avg\n",
    "\n",
    "train['avg_sent_length'] = train.excerpt.map(avg_length)\n",
    "test['avg_sent_length'] = test.excerpt.map(avg_length)"
   ]
  },
  {
   "cell_type": "code",
   "execution_count": 17,
   "metadata": {},
   "outputs": [
    {
     "data": {
      "image/png": "[encoded data removed]",
      "text/plain": [
       "<Figure size 432x288 with 1 Axes>"
      ]
     },
     "metadata": {
      "needs_background": "light"
     },
     "output_type": "display_data"
    }
   ],
   "source": [
    "train.avg_sent_length.hist();"
   ]
  },
  {
   "cell_type": "markdown",
   "metadata": {},
   "source": [
    "**Interpretation** \n",
    "\n",
    "The sentence length is left skewed, with some sentences having many more words. This could, with a combination of other features, be an indication of difficulty, however cannot be a factor on its own. "
   ]
  },
  {
   "cell_type": "markdown",
   "metadata": {},
   "source": [
    "**Exemplifying the fact that sentence length does not always mean the hardest sentence**"
   ]
  },
  {
   "cell_type": "code",
   "execution_count": 18,
   "metadata": {},
   "outputs": [
    {
     "data": {
      "text/plain": [
       "Many of the other pictures were much too beautiful to begin with, especially before lunch, but as they were drawn over and over again on birch-bark, they became plainer and easier, till at last even Tegumai said he could find no fault with them. They turned the hissy-snake the other way round for the Z-sound, to show it was hissing backwards in a soft and gentle way; and they just made a twiddle for E, because it came into the pictures so often; and they drew pictures of the sacred Beaver of the Tegumais for the B-sound; and because it was a nasty, nosy noise, they just drew noses for the N-sound, till they were tired; and they drew a picture of the big lake-pike's mouth for the greedy Ga-sound; and they drew the pike's mouth again with a spear behind it for the scratchy, hurty Ka-sound; and they drew pictures of a little bit of the winding Wagai river for the nice windy-windy Wa-sound; and so on and so forth and so following till they had done and drawn all the sound-pictures that they wanted, and there was the Alphabet, all complete."
      ]
     },
     "execution_count": 18,
     "metadata": {},
     "output_type": "execute_result"
    }
   ],
   "source": [
    "train[train.avg_sent_length == train.avg_sent_length.max()]['excerpt'].values[0]"
   ]
  },
  {
   "cell_type": "code",
   "execution_count": 19,
   "metadata": {},
   "outputs": [
    {
     "data": {
      "text/plain": [
       "Yuadoo is scared of the dark. Everyone feels fear sometimes. But Yuadoo can ask for help. Chidubem is worried about his schoolwork. He can tell his teacher. He can ask for help. Lushan is playing around! It's okay to be silly sometimes. Eruro is feeling sad. It's okay to cry. Emotions come and go. Ayator is bursting with happiness. He is joyful. Emotions come and go. Hadiza is bored. She needs to find something to do. Ayo is angry. He is frustrated. Anger is a difficult feeling. Labake is excited. What's the cause of her excitement? Mother made her favorite food. Zege felt sleepy. He was very tired. \"But wait, is 'sleepy' an emotion?\" asks Efe. Efe is confused! Can you answer his question? Tega is feeling surprise and shock. He heard some gossip. Is it true? Yebo is sick. She feels miserable. She needs some medicine and rest to feel better. Sekyen is feeling content. She has finished her chores. Now she can play. Vandefan does not have chores today. He shows two thumbs up to Sekyen. \"Good job, now let's play!\" he says."
      ]
     },
     "execution_count": 19,
     "metadata": {},
     "output_type": "execute_result"
    }
   ],
   "source": [
    "train[train.avg_sent_length == train.avg_sent_length.min()]['excerpt'].values[0]"
   ]
  },
  {
   "cell_type": "markdown",
   "metadata": {},
   "source": [
    "<a id='syntax'></a>\n",
    "\n",
    "# Syntax \n",
    "\n",
    "Measures: \n",
    "1. Subtrees by length and number per sentence. \n",
    "   - To measure syntactic complexity and tree depth of constituents in sentences with only spaCy.\n",
    "   \n",
    "2. Node Types:\n",
    "    - Beyond the depth of the trees in the sentences, the unique types of nodes that head each tree are important, as well as the number of types. The more types of nodes, the more syntactically complex the sentence.\n",
    "    \n",
    "    \n",
    "Further Steps: \n",
    "1. The splitting of auxiliary verbs in sentences.\n",
    "    - For example: 'I am, tomorrow, going to the store.' \n",
    "    - Spacy's morphology and Benepar parsers come pretrained and therefore do not have the power to accurately understand when verbs are acting alone or as auxiliary verbs only connected over a wide span of other constituents. \n",
    "2. Node Shifting in cases with heavy Subjects, Direct Objects, and Prepositional Objects. \n",
    "    - Also known as Heavy Noun Phrase Shift. Example: 'I saw, next to the house, my large, black dog with my shoe in his mouth. \n",
    "    - This is also very difficult to measure due to the complexity of context which can surround the shifting. "
   ]
  },
  {
   "cell_type": "markdown",
   "metadata": {},
   "source": [
    "<a id='subtrees'></a>\n",
    "\n",
    "\n",
    "## Subtrees\n",
    "\n",
    "Measure the syntactic complexity of the text by the number and length of subtrees."
   ]
  },
  {
   "cell_type": "markdown",
   "metadata": {},
   "source": [
    "**Calculating number of subtrees per sentence subtrees**\n"
   ]
  },
  {
   "cell_type": "code",
   "execution_count": 20,
   "metadata": {},
   "outputs": [],
   "source": [
    "def get_num_subtree(text):\n",
    "    \n",
    "    \"\"\"\n",
    "    Takes in a spaCy doc and returns the average number of subtrees per \\\n",
    "    sentence as a simple of measuring the syntactic complexity of the text\n",
    "    \n",
    "    Paramters: \n",
    "    text: nlp(text)\n",
    "    \n",
    "    Requirements: text must have attributes: Span.sents, token.subtree \n",
    "    \n",
    "    \"\"\"\n",
    "    total_subtrees = 0 \n",
    "    total_sentences = 0\n",
    "    for sentence in text.sents:\n",
    "        total_sentences += 1\n",
    "        for token in sentence:\n",
    "            total_subtrees += len([t for t in token.subtree])\n",
    "    return total_subtrees/total_sentences"
   ]
  },
  {
   "cell_type": "code",
   "execution_count": 21,
   "metadata": {},
   "outputs": [],
   "source": [
    "train['subtree_per_sent'] = train.excerpt.map(get_num_subtree)\n",
    "test['subtree_per_sent'] = test.excerpt.map(get_num_subtree)"
   ]
  },
  {
   "cell_type": "markdown",
   "metadata": {},
   "source": [
    "**Examining the excerpts with the max and min subtrees per sentence to check the function**"
   ]
  },
  {
   "cell_type": "code",
   "execution_count": 22,
   "metadata": {},
   "outputs": [
    {
     "data": {
      "text/plain": [
       "Many of the other pictures were much too beautiful to begin with, especially before lunch, but as they were drawn over and over again on birch-bark, they became plainer and easier, till at last even Tegumai said he could find no fault with them. They turned the hissy-snake the other way round for the Z-sound, to show it was hissing backwards in a soft and gentle way; and they just made a twiddle for E, because it came into the pictures so often; and they drew pictures of the sacred Beaver of the Tegumais for the B-sound; and because it was a nasty, nosy noise, they just drew noses for the N-sound, till they were tired; and they drew a picture of the big lake-pike's mouth for the greedy Ga-sound; and they drew the pike's mouth again with a spear behind it for the scratchy, hurty Ka-sound; and they drew pictures of a little bit of the winding Wagai river for the nice windy-windy Wa-sound; and so on and so forth and so following till they had done and drawn all the sound-pictures that they wanted, and there was the Alphabet, all complete."
      ]
     },
     "execution_count": 22,
     "metadata": {},
     "output_type": "execute_result"
    }
   ],
   "source": [
    "train[train['subtree_per_sent'] == train['subtree_per_sent'].max()]['excerpt'].values[0]"
   ]
  },
  {
   "cell_type": "markdown",
   "metadata": {},
   "source": [
    "**Calculating length (in words) of subtrees per sentence subtrees**"
   ]
  },
  {
   "cell_type": "code",
   "execution_count": 23,
   "metadata": {},
   "outputs": [],
   "source": [
    "def get_len_subtree(text):\n",
    "    \n",
    "    \"\"\"\n",
    "    Takes in a spaCy doc and returns the average length of subtrees per \\\n",
    "    sentence as a simple of measuring the syntactic complexity of the text\n",
    "    \n",
    "    Paramters: \n",
    "    text: nlp(text)\n",
    "    \n",
    "    Requirements: text must have attributes: Span.sents, token.subtree \n",
    "    \n",
    "    \"\"\"\n",
    "    total_subtrees = 0 \n",
    "    len_subtrees = 0\n",
    "    for sentence in text.sents:\n",
    "        for token in sentence:\n",
    "            total_subtrees += len([t for t in token.subtree])\n",
    "            len_subtrees += sum(len(t) for t in token.subtree)\n",
    "    if total_subtrees !=0:\n",
    "        return len_subtrees/total_subtrees\n",
    "    else: \n",
    "        return 0"
   ]
  },
  {
   "cell_type": "code",
   "execution_count": 24,
   "metadata": {},
   "outputs": [],
   "source": [
    "train['subtree_len'] = train.excerpt.map(get_len_subtree)\n",
    "test['subtree_len'] = test.excerpt.map(get_len_subtree)"
   ]
  },
  {
   "cell_type": "code",
   "execution_count": 25,
   "metadata": {},
   "outputs": [
    {
     "data": {
      "image/png": "[encoded data removed]",
      "text/plain": [
       "<Figure size 864x360 with 4 Axes>"
      ]
     },
     "metadata": {
      "needs_background": "light"
     },
     "output_type": "display_data"
    }
   ],
   "source": [
    "fig, ax = plt.subplots(nrows=2, ncols = 2, figsize = (12, 5))\n",
    "\n",
    "ax[0][1].hist(train['subtree_len'])\n",
    "ax[0][1].set_title('AVG Length of Subtrees')\n",
    "ax[1][1].scatter(train['subtree_len'], train.target)\n",
    "ax[1][1].set_title('Length of Subtrees to Target')\n",
    "\n",
    "ax[0][0].hist(train['subtree_per_sent'])\n",
    "ax[0][0].set_title('AVG Subtree Per Sentence')\n",
    "ax[1][0].scatter(train['subtree_per_sent'], train.target)\n",
    "ax[1][0].set_title('Num of Subtrees to Target')\n",
    "fig.subplots_adjust(hspace=0.35, wspace=0.15);"
   ]
  },
  {
   "cell_type": "code",
   "execution_count": 26,
   "metadata": {},
   "outputs": [],
   "source": [
    "# making a column that is the number of subtrees by the length within them\n",
    "\n",
    "train['subtree_len_by_num'] = train.subtree_len*train.subtree_per_sent\n",
    "test['subtree_len_by_num'] = test.subtree_len*train.subtree_per_sent"
   ]
  },
  {
   "cell_type": "markdown",
   "metadata": {},
   "source": [
    "**Notes**\n",
    "\n",
    "The idea was that the more subtrees in each sentence, the more difficult it would be to read. It seems that there is a general correlation that might be more linear with its interaction with other features."
   ]
  },
  {
   "cell_type": "markdown",
   "metadata": {},
   "source": [
    "<a id='nodes'></a>\n",
    "\n",
    "## Node Complexity"
   ]
  },
  {
   "cell_type": "markdown",
   "metadata": {},
   "source": [
    "**Calculating the number of unique nodes that start each constituency parsing.**"
   ]
  },
  {
   "cell_type": "code",
   "execution_count": 27,
   "metadata": {},
   "outputs": [],
   "source": [
    "def node_types(text):\n",
    "    \n",
    "    '''\n",
    "    Returns the average number of unique nodes per text to measure the syntactic complexity. \n",
    "    \n",
    "    Parameters: \n",
    "    text: doc with Benepar (Berkeley Neural Parser) ._.labels attribute \n",
    "    '''\n",
    "    \n",
    "    nodes = 0\n",
    "    labels = set()\n",
    "    for word in text:\n",
    "        if word._.labels:  # exclude empty nodes that look like () \n",
    "            nodes +=1\n",
    "            labels.add(word._.labels)\n",
    "    return len(labels)/nodes"
   ]
  },
  {
   "cell_type": "code",
   "execution_count": 28,
   "metadata": {},
   "outputs": [],
   "source": [
    "train['node_types'] = train.excerpt.map(node_types)\n",
    "test['node_types'] = test.excerpt.map(node_types)"
   ]
  },
  {
   "cell_type": "code",
   "execution_count": 29,
   "metadata": {},
   "outputs": [
    {
     "data": {
      "image/png": "[encoded data removed]",
      "text/plain": [
       "<Figure size 432x288 with 1 Axes>"
      ]
     },
     "metadata": {
      "needs_background": "light"
     },
     "output_type": "display_data"
    }
   ],
   "source": [
    "train.node_types.hist();"
   ]
  },
  {
   "cell_type": "code",
   "execution_count": 30,
   "metadata": {},
   "outputs": [
    {
     "data": {
      "image/png": "[encoded data removed]",
      "text/plain": [
       "<Figure size 432x288 with 1 Axes>"
      ]
     },
     "metadata": {
      "needs_background": "light"
     },
     "output_type": "display_data"
    }
   ],
   "source": [
    "plt.scatter(train['node_types'], train['target']);"
   ]
  },
  {
   "cell_type": "markdown",
   "metadata": {},
   "source": [
    "<a id='morph'></a>\n",
    "\n",
    "# Morphology \n",
    "\n",
    "Measures:\n",
    "\n",
    "1. Dependencies: number per word, distance, location. \n",
    "    - The more dependencies that exist per word, the more cognitive load will exist on the reader's short term memory, especially if those dependencies show up before the word itself and are separated from the dependent word by many words. \n",
    "\n",
    "2. The ratio of nouns and pronouns to proper nouns. \n",
    "    - Overuse of pronouns in a sentence when there are many possibilities of which noun is being referenced can make text more readable. In future versions, this ratio will be improved by using [nueralcoref](https://github.com/huggingface/neuralcoref) to measure the pronouns and possibile confusion caused by their dependencies.\n",
    "    \n",
    "3. Morphological Complexity\n",
    "     - The number of unique tags and dependencies used in each sentence. "
   ]
  },
  {
   "cell_type": "markdown",
   "metadata": {},
   "source": [
    "<a id='deps'></a>\n",
    "\n",
    "\n",
    "## Number of Dependencies per Token"
   ]
  },
  {
   "cell_type": "code",
   "execution_count": 31,
   "metadata": {},
   "outputs": [],
   "source": [
    "def avg_dep(text, dep_type, n_left = False, n_right = False):\n",
    "    \n",
    "    \"\"\"\n",
    "    Returns the average number children of a certain dependency type per sentence, \n",
    "    or the number of children to the left or right of the token \n",
    "\n",
    "    Paramters: \n",
    "        nlp(text): spaCy Doc type text \n",
    "        n_left = False : count only dependencies to the left of the token\n",
    "        n_right = False : count only dependencies to the right of the token\n",
    "\n",
    "\n",
    "    Requirements: text must have spaCy token.dep_ and token.children, token.n_lefts attributes \n",
    "    \"\"\"\n",
    "    \n",
    "    total = 0\n",
    "    dep = 0\n",
    "    for token in text:\n",
    "        if token.dep_ in dep_type:\n",
    "            total += 1\n",
    "            if n_left == True: \n",
    "                dep += token.n_lefts\n",
    "            if n_right == True:\n",
    "                dep += token.n_rights\n",
    "            else:\n",
    "                dep += len([child for child in token.children])\n",
    "\n",
    "    if total != 0:\n",
    "        return dep/total\n",
    "    else:\n",
    "        return 0"
   ]
  },
  {
   "cell_type": "markdown",
   "metadata": {},
   "source": [
    "**Mapping the function as the left, right, and total dependencies to examine the distribution and make a determination on which to use in modeling**"
   ]
  },
  {
   "cell_type": "code",
   "execution_count": 32,
   "metadata": {},
   "outputs": [],
   "source": [
    "# Left dependencies \n",
    "\n",
    "train['left_dep'] = train.excerpt.map(\n",
    "    lambda x: avg_dep(text = x, \n",
    "                      dep_type =['nsubj', 'nsubjpass', 'ROOT', 'dobj'],\n",
    "                      n_left = True))\n",
    "\n",
    "test['left_dep'] = test.excerpt.map(\n",
    "    lambda x: avg_dep(text = x, \n",
    "                      dep_type = ['nsubj', 'nsubjpass', 'ROOT', 'dobj'],\n",
    "                      n_left = True))"
   ]
  },
  {
   "cell_type": "code",
   "execution_count": 33,
   "metadata": {},
   "outputs": [],
   "source": [
    "# Right dependencies \n",
    "\n",
    "train['right_dep'] = train.excerpt.map(\n",
    "    lambda x: avg_dep(text = x,\n",
    "                      dep_type = ['nsubj', 'nsubjpass', 'ROOT', 'dobj'], \n",
    "                      n_right = True))\n",
    "\n",
    "test['right_dep'] = test.excerpt.map(\n",
    "    lambda x: avg_dep(text = x,\n",
    "                      dep_type = ['nsubj', 'nsubjpass', 'ROOT', 'dobj'],\n",
    "                      n_right = True))"
   ]
  },
  {
   "cell_type": "code",
   "execution_count": 34,
   "metadata": {},
   "outputs": [],
   "source": [
    "# Total dependencies\n",
    "\n",
    "train['total_dep'] = train.excerpt.map(\n",
    "    lambda x: avg_dep(text = x,\n",
    "                      dep_type = ['nsubj', 'nsubjpass', 'ROOT', 'dobj']))\n",
    "\n",
    "test['total_dep'] = test.excerpt.map(\n",
    "    lambda x: avg_dep(text = x,\n",
    "                      dep_type = ['nsubj', 'nsubjpass', 'ROOT', 'dobj']))"
   ]
  },
  {
   "cell_type": "markdown",
   "metadata": {},
   "source": [
    "## Distance from Dependencies"
   ]
  },
  {
   "cell_type": "code",
   "execution_count": 35,
   "metadata": {},
   "outputs": [],
   "source": [
    "def avg_dep_distance(text, total = True, left=False, right=False):\n",
    "    \n",
    "    '''\n",
    "    Returns the average number of words between a token and it's children\n",
    "    \n",
    "    Paramters: \n",
    "    text: spaCy doc - nlp(text)\n",
    "    total = True: default, returns distance regardless of orientation to left or right\n",
    "    left = False: returns distance of only a token's left children\n",
    "    right = False: returns distance of only a token's right children\n",
    "    '''\n",
    "    \n",
    "    tot_left_tokens = 0\n",
    "    tot_right_tokens = 0\n",
    "    left_distance = 0\n",
    "    right_distance = 0\n",
    "\n",
    "    for sentence in text.sents:\n",
    "\n",
    "        for token in sentence:\n",
    "            left_tokens = [word.i for word in token.lefts]\n",
    "            right_tokens = [word.i for word in token.rights]\n",
    "            tot_left_tokens += len(left_tokens)\n",
    "            tot_right_tokens += len(right_tokens)\n",
    "                #iterate through sentence at the token's index and count words between that index and the token \n",
    "            left_distance += sum([token.i - index for index in left_tokens])\n",
    "            right_distance += sum([index - token.i for index in right_tokens])\n",
    "    \n",
    "    if total == True:\n",
    "        return (left_distance+right_distance)/(tot_left_tokens+tot_right_tokens)\n",
    "    if left == True:\n",
    "        return (left_distance)/(tot_left_tokens)\n",
    "    if right == True:\n",
    "        return (right_distance)/(tot_right_tokens)"
   ]
  },
  {
   "cell_type": "markdown",
   "metadata": {},
   "source": [
    "**Mapping the function as the left, right, and total dependency distances to examine the distribution and make a determination on which to use in modeling**"
   ]
  },
  {
   "cell_type": "code",
   "execution_count": 36,
   "metadata": {},
   "outputs": [],
   "source": [
    "#left and right dependency distances \n",
    "\n",
    "train['left_dep_dist'] = train['excerpt'].map(\n",
    "    lambda x: avg_dep_distance(x, total = False, left = True))\n",
    "\n",
    "train['right_dep_dist'] = train['excerpt'].map(\n",
    "    lambda x: avg_dep_distance(x, total = False, right = True))\n",
    "\n",
    "\n",
    "test['left_dep_dist'] = test['excerpt'].map(\n",
    "    lambda x: avg_dep_distance(x, total = False, left = True))\n",
    "\n",
    "test['right_dep_dist'] = test['excerpt'].map(\n",
    "    lambda x: avg_dep_distance(x, total = False, right = True))\n"
   ]
  },
  {
   "cell_type": "code",
   "execution_count": 37,
   "metadata": {},
   "outputs": [],
   "source": [
    "#total dependency distances \n",
    "train['dep_dist'] = train['excerpt'].map(lambda x: avg_dep_distance(x))\n",
    "test['dep_dist'] = test['excerpt'].map(lambda x: avg_dep_distance(x))"
   ]
  },
  {
   "cell_type": "code",
   "execution_count": 38,
   "metadata": {},
   "outputs": [
    {
     "data": {
      "image/png": "[encoded data removed]",
      "text/plain": [
       "<Figure size 864x360 with 6 Axes>"
      ]
     },
     "metadata": {
      "needs_background": "light"
     },
     "output_type": "display_data"
    }
   ],
   "source": [
    "fig, ax = plt.subplots(nrows=2, ncols = 3, figsize = (12, 5))\n",
    "\n",
    "ax[0][1].hist(train['dep_dist'])\n",
    "ax[0][1].set_title('AVG Length of Subtrees')\n",
    "ax[1][1].scatter(train['dep_dist'], train.target)\n",
    "ax[1][1].set_title('Total Dependency Distances')\n",
    "\n",
    "ax[0][0].hist(train['left_dep_dist'])\n",
    "ax[0][0].set_title('Left Subtree Per Sentence')\n",
    "ax[1][0].scatter(train['left_dep_dist'], train.target)\n",
    "ax[1][0].set_title('Left Distances')\n",
    "\n",
    "ax[0][2].hist(train['right_dep_dist'])\n",
    "ax[0][2].set_title('Right Subtree Per Sentence')\n",
    "ax[1][2].scatter(train['right_dep_dist'], train.target)\n",
    "ax[1][2].set_title('Right Distances')\n",
    "fig.subplots_adjust(hspace=0.35, wspace=0.15);"
   ]
  },
  {
   "cell_type": "markdown",
   "metadata": {},
   "source": [
    "It is nearly impossible for now to tell which has more importance in terms of the text's readability. Because there seem to be slighlty higher dispersions in the left, and right dependencies, they might be a better indicator. \n",
    "\n",
    "Additionally, the option to separate left and right was to allow further preprocessing that analyzed the synactic makeup up left vs right nodes and the effect on the readability. "
   ]
  },
  {
   "cell_type": "markdown",
   "metadata": {},
   "source": [
    "**Looking into words with the largest distance between dependencies**"
   ]
  },
  {
   "cell_type": "code",
   "execution_count": 40,
   "metadata": {},
   "outputs": [],
   "source": [
    "doc = train[train.dep_dist==train.dep_dist.max()]['excerpt'].values[0]\n",
    "sentence = [sent for sent in doc.sents]\n",
    "# displacy.serve(sentence, style=\"dep\")\n",
    "# print(sentence)"
   ]
  },
  {
   "cell_type": "markdown",
   "metadata": {},
   "source": [
    "<a id='pronouns'></a>\n",
    "\n",
    "\n",
    "## Pronouns Per Noun"
   ]
  },
  {
   "cell_type": "code",
   "execution_count": 39,
   "metadata": {},
   "outputs": [],
   "source": [
    "def get_pronoun_ratio(text):\n",
    "    \n",
    "    \"\"\"\n",
    "    Paramters: doc of nlp(text) type\n",
    "    \n",
    "    Requirements: doc must have token.pos_ type\n",
    "\n",
    "    returns the use-ratio of proper names and nouns, like 'Tokyo' and 'the cat' \n",
    "    to pronouns such as 'It, they, she, him'\n",
    "    \"\"\"\n",
    "   \n",
    "    propn = 0\n",
    "    pron = 0\n",
    "    for word in text: \n",
    "        if word.pos_ == 'PRON' and word.morph.get('Person') == ['3']:\n",
    "            pron += 1\n",
    "        if word.pos_ == 'PROPN' or word.pos_ == 'NOUN' and word.dep_ in ['subj', \n",
    "                                                                        'dobj',\n",
    "                                                                         'nsubjpass',\n",
    "                                                                         'pobj']:\n",
    "            propn += 1\n",
    "    return pron/propn"
   ]
  },
  {
   "cell_type": "code",
   "execution_count": 40,
   "metadata": {},
   "outputs": [],
   "source": [
    "train['pron_ratio'] = train['excerpt'].map(get_pronoun_ratio)\n",
    "test['pron_ratio'] = test['excerpt'].map(get_pronoun_ratio)"
   ]
  },
  {
   "cell_type": "code",
   "execution_count": 41,
   "metadata": {},
   "outputs": [
    {
     "data": {
      "text/plain": [
       "ALL that a man achieves and all that he fails to achieve is the direct result of his own thoughts. In a justly ordered universe, where loss of equipoise would mean total destruction, individual responsibility must be absolute. A man's weakness and strength, purity and impurity, are his own, and not another man's; they are brought about by himself, and not by another; and they can only be altered by himself, never by another. His condition is also his own, and not another man's. His suffering and his happiness are evolved from within. As he thinks, so he is; as he continues to think, so he remains.\n",
       "A strong man cannot help a weaker unless that weaker is willing to be helped, and even then the weak man must become strong of himself; he must, by his own efforts, develop the strength which he admires in another. None but himself can alter his condition."
      ]
     },
     "execution_count": 41,
     "metadata": {},
     "output_type": "execute_result"
    }
   ],
   "source": [
    "train[train['pron_ratio'] == train['pron_ratio'].max()]['excerpt'].values[0]"
   ]
  },
  {
   "cell_type": "code",
   "execution_count": 42,
   "metadata": {},
   "outputs": [
    {
     "data": {
      "image/png": "[encoded data removed]",
      "text/plain": [
       "<Figure size 864x288 with 2 Axes>"
      ]
     },
     "metadata": {
      "needs_background": "light"
     },
     "output_type": "display_data"
    }
   ],
   "source": [
    "fig, ax = plt.subplots(1, 2, figsize = (12, 4))\n",
    "\n",
    "ax[0].hist(train['pron_ratio'])\n",
    "ax[1].scatter(train['pron_ratio'], train['target']);"
   ]
  },
  {
   "cell_type": "markdown",
   "metadata": {},
   "source": [
    "**Interpretaiton**\n",
    "\n",
    "It is surprising to see that the more pronouns there are per text, contrary to my hypothesis, the easier the text is to read. Perhaps this is due to dialouges, which could contribute to easier reading and would need to be modeled. Another explanation is that perhaps there is only one main subject in the text and therefore the pronouns are not confusing. \n",
    "\n",
    "This ratio does not measure pronoun co-reference which is what was attempted to be extracted from this function. Implementation of nueralcoref could help parse a more accurate picture of reading complexity stemming from pronoun usage."
   ]
  },
  {
   "cell_type": "markdown",
   "metadata": {},
   "source": [
    "## Use of Perfect Tense in Verbs "
   ]
  },
  {
   "cell_type": "code",
   "execution_count": 44,
   "metadata": {},
   "outputs": [
    {
     "data": {
      "image/png": "[encoded data removed]",
      "text/plain": [
       "<Figure size 432x288 with 1 Axes>"
      ]
     },
     "metadata": {
      "needs_background": "light"
     },
     "output_type": "display_data"
    }
   ],
   "source": [
    "def count_perfect(text):\n",
    "    '''\n",
    "    Returns the average use of perfect tense to verbs in the text\n",
    "    \n",
    "    Parameters:\n",
    "    text: Doc of nlp(text)\n",
    "    \n",
    "    '''\n",
    "    doc = text\n",
    "    words = [word.pos_ for word in doc if word.pos_ in ('VERB')]\n",
    "    total_verbs = len(words)\n",
    "    aux = len([word for word in doc if \n",
    "                 word.morph.get('Aspect') == ['Perf']])\n",
    "    \n",
    "    \n",
    "    return aux/total_verbs\n",
    "\n",
    "train['perf_verbs'] = train.excerpt.map(count_perfect)\n",
    "\n",
    "test['perf_verbs'] = test.excerpt.map(count_perfect)\n",
    "\n",
    "train['perf_verbs'].hist();"
   ]
  },
  {
   "cell_type": "code",
   "execution_count": 45,
   "metadata": {},
   "outputs": [
    {
     "data": {
      "text/plain": [
       "From September 26, 1882, to September 1, 1883, night and day uninterruptedly, a watch was kept, in which the officers took part, so that the observations might be regularly made and recorded. Every four hours a series of direct magnetic and meteorological observations was made, from hour to hour meteorological notes were taken, the rise and fall of the sea recorded, and these were frequently multiplied by observations every quarter of an hour; the longitude and latitude were exactly determined, a number of additions to the catalogue of the fixed stars for the southern heavens made, and numerous specimens in natural history collected.\n",
       "The apparatus employed by the expedition for the registration of the magnetic elements was devised by M. Mascart, by which the variations of the three elements are inscribed upon a sheet of paper covered with gelatine bromide, inclination, vertical and horizontal components, with a certainty which is shown by the 330 diurnal curves brought back from the Cape."
      ]
     },
     "execution_count": 45,
     "metadata": {},
     "output_type": "execute_result"
    }
   ],
   "source": [
    "train[train['perf_verbs'] == train['perf_verbs'].max()]['excerpt'].values[0]"
   ]
  },
  {
   "cell_type": "markdown",
   "metadata": {},
   "source": [
    "<a id='tagtypes'></a>\n",
    "\n",
    "\n",
    "## Complexity of Morphological Types"
   ]
  },
  {
   "cell_type": "markdown",
   "metadata": {},
   "source": [
    "**Calculating the count of unique types of morphological words used in the text as some tags, like specific types of conjunctions, will contribute to more difficult readability**"
   ]
  },
  {
   "cell_type": "code",
   "execution_count": 46,
   "metadata": {},
   "outputs": [],
   "source": [
    "def count_tag_typ(text):\n",
    "    \n",
    "    '''    \n",
    "    Paramters: \n",
    "    nlp(text): Doc of spaCy nlp type \n",
    "    \n",
    "    Returns a dictionary with\n",
    "        Keys each tag type in the text: does not include (PUNCT, X, SYM, SPACE, SUM or INTJ, \n",
    "        'HYPH', '.', 'FW', '-LRB-', ':', 'LS', 'SYM', '``','-RRB-', 'UH', 'CD').\n",
    "        Values of the average use of each tag per word not in the omitted list\n",
    "     '''\n",
    "    \n",
    "    tag_types = {}\n",
    "    words = [word.tag_ for word in text if word.pos_ not in [\n",
    "        'PUNCT','X','SPACE','SYM','NUM','INTJ'] and word.tag_ not in [\n",
    "        'HYPH', '.', 'FW', '-LRB-', ':', 'LS', 'SYM', '``','-RRB-', 'UH', 'CD']]\n",
    "\n",
    "    count = Counter(words)\n",
    "    total = len(words)\n",
    "    return count\n",
    "\n",
    "\n",
    "train['num_tags'] = train['excerpt'].map(lambda x: count_tag_typ(x))\n",
    "test['num_tags'] = test['excerpt'].map(lambda x: count_tag_typ(x))"
   ]
  },
  {
   "cell_type": "markdown",
   "metadata": {},
   "source": [
    "**Creating a new data frame from the function to clean and add into the main data after**"
   ]
  },
  {
   "cell_type": "code",
   "execution_count": 47,
   "metadata": {},
   "outputs": [],
   "source": [
    "tags_train = pd.DataFrame([tag for tag in train['num_tags']])\n",
    "tags_test = pd.DataFrame([tag for tag in test['num_tags']])"
   ]
  },
  {
   "cell_type": "markdown",
   "metadata": {},
   "source": [
    "After checking the number of nulls per dataset, I decided to fill all in order to make the dataset generalizable to any text that may be run through the model."
   ]
  },
  {
   "cell_type": "code",
   "execution_count": 48,
   "metadata": {},
   "outputs": [],
   "source": [
    "tags_train = tags_train.fillna(0)\n",
    "tags_test = tags_test.fillna(0)"
   ]
  },
  {
   "cell_type": "markdown",
   "metadata": {},
   "source": [
    "**Concatenating the tag data frame and the main dataframe**"
   ]
  },
  {
   "cell_type": "code",
   "execution_count": 49,
   "metadata": {},
   "outputs": [],
   "source": [
    "train = pd.concat([train, tags_train], axis = 1)\n",
    "test = pd.concat([test, tags_test], axis = 1)\n",
    "\n",
    "train.drop(columns = ['num_tags'], inplace = True)\n",
    "test.drop(columns = ['num_tags'], inplace = True)"
   ]
  },
  {
   "cell_type": "markdown",
   "metadata": {},
   "source": [
    "**Counting the set of tags and dependencies to get an idea of how morphologically rich each excerpt is**"
   ]
  },
  {
   "cell_type": "code",
   "execution_count": 50,
   "metadata": {},
   "outputs": [],
   "source": [
    "def count_tags(text):\n",
    "\n",
    "    '''\n",
    "    Returns the average number of unique tag_ per sentence\n",
    "    \n",
    "    Paramters: \n",
    "    nlp(text): a spaCy doc type\n",
    "    '''\n",
    "    sentences = 0\n",
    "    sent_tags = 0\n",
    "\n",
    "    for sentence in text.sents:\n",
    "        sentences += 1\n",
    "        sent_tags += len(set([word.tag_ for word in sentence]))\n",
    "\n",
    "    return(sent_tags/sentences)"
   ]
  },
  {
   "cell_type": "code",
   "execution_count": 51,
   "metadata": {},
   "outputs": [],
   "source": [
    "def count_deps(text):\n",
    "\n",
    "    '''\n",
    "    Returns the average number of unique dep_ per sentence\n",
    "    \n",
    "    Paramters: \n",
    "    nlp(text): a spaCy doc type\n",
    "    '''\n",
    "    sentences = 0\n",
    "    sent_deps = 0\n",
    "\n",
    "    for sentence in text.sents:\n",
    "        sentences += 1\n",
    "        sent_deps += len(set([word.dep_ for word in sentence]))\n",
    "\n",
    "    return(sent_deps/sentences)"
   ]
  },
  {
   "cell_type": "code",
   "execution_count": 52,
   "metadata": {},
   "outputs": [],
   "source": [
    "train['unique_tags'] = train.excerpt.map(lambda excerpt: \n",
    "                                                count_tags(excerpt))\n",
    "\n",
    "test['unique_tags'] = test.excerpt.map(lambda excerpt: \n",
    "                                              count_tags(excerpt))\n",
    "\n",
    "train['unique_deps'] = train.excerpt.map(lambda excerpt: \n",
    "                                                count_deps(excerpt))\n",
    "\n",
    "test['unique_deps'] = test.excerpt.map(lambda excerpt: \n",
    "                                              count_deps(excerpt))"
   ]
  },
  {
   "cell_type": "code",
   "execution_count": 53,
   "metadata": {},
   "outputs": [
    {
     "data": {
      "image/png": "[encoded data removed]",
      "text/plain": [
       "<Figure size 864x288 with 2 Axes>"
      ]
     },
     "metadata": {
      "needs_background": "light"
     },
     "output_type": "display_data"
    }
   ],
   "source": [
    "fig, ax = plt.subplots(1, 2, figsize = (12, 4))\n",
    "\n",
    "ax[0].hist(train['unique_tags'])\n",
    "ax[0].set_title('Tags')\n",
    "ax[1].hist(train['unique_deps'])\n",
    "ax[1].set_title('Dependencies');"
   ]
  },
  {
   "cell_type": "markdown",
   "metadata": {},
   "source": [
    "**Interpretation**\n",
    "\n",
    "Unique tags and dependencies are both normally distributed which could be useful in predicting the target. The dependencies have a more uniform distribution though so it will be the default feature used in the model unless there is a strong difference between the two."
   ]
  },
  {
   "cell_type": "code",
   "execution_count": 54,
   "metadata": {},
   "outputs": [
    {
     "data": {
      "text/plain": [
       "Now and then there are truths of a higher kind than these in Franklin, and Sainte-Beuve, the great French critic, quotes, as an example of his occasional finer moods, the saying, \"Truth and sincerity have a certain distinguishing native luster about them which cannot be counterfeited; they are like fire and flame that cannot be painted.\" But the sage who invented the Franklin stove had no disdain of small utilities; and in general the last word of his philosophy is well expressed in a passage of his Autobiography: \"Human felicity is produced not so much by great pieces of good fortune, that seldom happen, as by little advantages that occur every day; thus, if you teach a poor young man to shave himself and keep his razor in order, you may contribute more to the happiness of his life than in giving him a thousand guineas.\""
      ]
     },
     "execution_count": 54,
     "metadata": {},
     "output_type": "execute_result"
    }
   ],
   "source": [
    "train[train['unique_deps']==train['unique_deps'].max()]['excerpt'].values[0]"
   ]
  },
  {
   "cell_type": "markdown",
   "metadata": {},
   "source": [
    "<a id='sems'></a>\n",
    "\n",
    "# Semantics\n",
    "\n",
    "Measures: \n",
    "\n",
    "1. Word Frequency \n",
    "    - using [wordfreq](https://pypi.org/project/wordfreq/) to measure the frequnecy a word occurs in the English langauge. The less often a word occurs, the less familiar it is to the reader. This may be the most subject to readability standard deviation. \n",
    "2. Lexical Diversity \n",
    "    - using [lexical-diversity](https://pypi.org/project/lexical-diversity/) to calculate how many stemmed words are in each text. The more words there are in the text (especially low frequency words) the harder it will be to interpret the entire text for some readers. \n",
    "3. Sentence Topics\n",
    "    - LDA with 5 components will be anaylzed to see if the topics effect the readability of text. Particularly, these topcis combined with the word levels used within them may have a greater impact. "
   ]
  },
  {
   "cell_type": "markdown",
   "metadata": {},
   "source": [
    "<a id='wordfreq'></a>\n",
    "\n",
    "## Word Frequency"
   ]
  },
  {
   "cell_type": "markdown",
   "metadata": {},
   "source": [
    "Average word frequency will be calculated only on nouns, verbs, adjectives and adverbs due to the high frequency and the few options of words like pronouns, prepositions, etc. Inclusions of these words will oversaturate the frequency calcuations of the words.\n",
    "\n",
    "Lexical diversity will be calculated on the same word types, however the words will be lemmatized so as to calculate the specific semantics used regardless of morphological aspects of the word. "
   ]
  },
  {
   "cell_type": "code",
   "execution_count": 55,
   "metadata": {},
   "outputs": [],
   "source": [
    "# find average english frequency of use of \n",
    "# noun, verb, adjective and adverbs in text in the text \n",
    "\n",
    "def avg_word_freq(text):\n",
    "    \n",
    "    '''\n",
    "    Returns average word frequency (compared to use in English Language) of \n",
    "    noun, verb and adjective/adverbs in the document.\n",
    "    Parameters: \n",
    "    text: spaCy Doc type\n",
    "    '''\n",
    "    \n",
    "    total_words = 0\n",
    "    word_freq = 0\n",
    "    include = ['VERB', 'AUX', 'NOUN', 'ADV', 'ADJ']\n",
    "    words = [word.text for word in text if word.pos_ in include]\n",
    "    for word in words:\n",
    "        total_words += 1\n",
    "        word_freq += word_frequency(word, 'en')\n",
    "    return word_freq/total_words\n",
    "\n",
    "train['avg_word_freq'] = train.excerpt.map(avg_word_freq)\n",
    "test['avg_word_freq'] = test.excerpt.map(avg_word_freq)"
   ]
  },
  {
   "cell_type": "markdown",
   "metadata": {},
   "source": [
    "**Examining excerpts with the highest frequency(easiest words) and the lowest (hardest words)**"
   ]
  },
  {
   "cell_type": "code",
   "execution_count": 56,
   "metadata": {},
   "outputs": [
    {
     "data": {
      "text/plain": [
       "It is sad but true. Autumn is often called the sad time of the year, and it is the sad time. But it shouldn't be. Old Mother Nature never intended that it should be. She meant it to be the glad time. It is the time when all the little people of the Green Forest and the Green Meadows have got over the cares and worries of bringing up families and teaching their children how to look out for themselves. It is the season when food is plentiful, and every one is fat and is, or ought to be, care free. It is the season when Old Mother Nature intended all her little people to be happy, to have nothing to worry them for the little time before the coming of cold weather and the hard times which cold weather always brings."
      ]
     },
     "execution_count": 56,
     "metadata": {},
     "output_type": "execute_result"
    }
   ],
   "source": [
    "train[train['avg_word_freq'] == train['avg_word_freq'].max()]['excerpt'].values[0]"
   ]
  },
  {
   "cell_type": "code",
   "execution_count": 57,
   "metadata": {},
   "outputs": [
    {
     "data": {
      "text/plain": [
       "In May 1774, in retaliation for the \"Boston Tea Party,\" Parliament closed the port of Boston and virtually abolished provincial self-government in Massachusetts. These actions stimulated resistance across the land. That summer, the Massachusetts lower house, through the committees of correspondence, secretly invited all 13 Colonies to attend a convention. In response, on the fifth of September, 55 Delegates representing 12 Colonies, Georgia excepted, assembled at Philadelphia. They convened at Carpenters' Hall and organized the First Continental Congress.\n",
       "Sharing though they did common complaints against the Crown, the Delegates propounded a wide variety of political opinions. Most of them agreed that Parliament had no right to control the internal affairs of the Colonies. Moderates, stressing trade benefits with the mother country, believed Parliament should continue to regulate commerce. Others questioned the extent of its authority. A handful of Delegates felt the answer to the problem lay in parliamentary representation. Most suggested legislative autonomy for the Colonies. Reluctant to sever ties of blood, language, trade, and cultural heritage, none yet openly entertained the idea of complete independence from Great Britain. \n",
       "After weeks of debate and compromise, Congress adopted two significant measures."
      ]
     },
     "execution_count": 57,
     "metadata": {},
     "output_type": "execute_result"
    }
   ],
   "source": [
    "train[train['avg_word_freq'] == train['avg_word_freq'].min()]['excerpt'].values[0]"
   ]
  },
  {
   "cell_type": "code",
   "execution_count": 58,
   "metadata": {},
   "outputs": [
    {
     "data": {
      "image/png": "[encoded data removed]",
      "text/plain": [
       "<Figure size 864x288 with 2 Axes>"
      ]
     },
     "metadata": {
      "needs_background": "light"
     },
     "output_type": "display_data"
    }
   ],
   "source": [
    "fig, ax = plt.subplots(1, 2, figsize = (12, 4))\n",
    "\n",
    "ax[0].hist(train['avg_word_freq'])\n",
    "ax[0].set_title('Word Frequency Distribution')\n",
    "ax[1].scatter(train['avg_word_freq'], train.target)\n",
    "ax[1].set_title('Word Frequency Scatter');"
   ]
  },
  {
   "cell_type": "code",
   "execution_count": 59,
   "metadata": {},
   "outputs": [
    {
     "data": {
      "text/plain": [
       "target    0.100853\n",
       "Name: avg_word_freq, dtype: float64"
      ]
     },
     "execution_count": 59,
     "metadata": {},
     "output_type": "execute_result"
    }
   ],
   "source": [
    "train.corr()[['target']].sort_values('target').loc['avg_word_freq']"
   ]
  },
  {
   "cell_type": "markdown",
   "metadata": {},
   "source": [
    "**Interpretation**\n",
    "\n",
    "The almost perfect normal distribution indicated this could be a good feature to model on, although the scatter plot is quite wide. There seems to be a loose positive correlation between word frequency and readability. The distribution is quite wide within the scatter plot so it could be strengthen with interactions of other features. "
   ]
  },
  {
   "cell_type": "markdown",
   "metadata": {},
   "source": [
    "<a id='lexdiv'></a>\n",
    "\n",
    "\n",
    "## Lexical Diversity"
   ]
  },
  {
   "cell_type": "code",
   "execution_count": 60,
   "metadata": {},
   "outputs": [],
   "source": [
    "def find_lexical_diversity(text):\n",
    "    '''Returns the lexical diversity of lemmed text using ttr formula\n",
    "    Parameters: \n",
    "    nlp(text), a spaCy doc '''\n",
    "    lemmed = [word.lemma_ for word in text if word.pos_ in \n",
    "              ['VERB', 'AUX', 'NOUN', 'ADV', 'ADJ']]\n",
    "    lexdiv = ld.ttr(lemmed)\n",
    "    return lexdiv \n",
    "\n",
    "train['lexical_diversity'] = train.excerpt.map(find_lexical_diversity)\n",
    "test['lexical_diversity'] = test.excerpt.map(find_lexical_diversity)"
   ]
  },
  {
   "cell_type": "code",
   "execution_count": 61,
   "metadata": {},
   "outputs": [
    {
     "data": {
      "image/png": "[encoded data removed]",
      "text/plain": [
       "<Figure size 864x288 with 2 Axes>"
      ]
     },
     "metadata": {
      "needs_background": "light"
     },
     "output_type": "display_data"
    }
   ],
   "source": [
    "fig, ax = plt.subplots(1, 2, figsize = (12, 4))\n",
    "\n",
    "ax[0].hist(train['lexical_diversity'])\n",
    "ax[0].set_title('Lexical Diversity Distribution')\n",
    "ax[1].scatter(train['lexical_diversity'], train.target)\n",
    "ax[1].set_title('Lexical Diversity Scatter');"
   ]
  },
  {
   "cell_type": "code",
   "execution_count": 62,
   "metadata": {},
   "outputs": [
    {
     "data": {
      "text/plain": [
       "target   -0.248186\n",
       "Name: lexical_diversity, dtype: float64"
      ]
     },
     "execution_count": 62,
     "metadata": {},
     "output_type": "execute_result"
    }
   ],
   "source": [
    "train.corr()[['target']].sort_values('target').loc['lexical_diversity']"
   ]
  },
  {
   "cell_type": "markdown",
   "metadata": {},
   "source": [
    "**Interpretation**\n",
    "\n",
    "As hypothesized, the more complex a text is lexically, the more difficult it becomes to read."
   ]
  },
  {
   "cell_type": "markdown",
   "metadata": {},
   "source": [
    "**Combining Word Frequency and Lexical Diversity**\n",
    "How does a more diverse vocabulary that also holds less frequent words effect text compared to the two alone?"
   ]
  },
  {
   "cell_type": "code",
   "execution_count": 63,
   "metadata": {},
   "outputs": [],
   "source": [
    "train['lexdiv_wordfreq'] = train[\n",
    "    'avg_word_freq'] * train['lexical_diversity']\n",
    "\n",
    "test['lexdiv_wordfreq'] = test[\n",
    "    'avg_word_freq'] * test['lexical_diversity']"
   ]
  },
  {
   "cell_type": "code",
   "execution_count": 64,
   "metadata": {},
   "outputs": [
    {
     "data": {
      "image/png": "[encoded data removed]",
      "text/plain": [
       "<Figure size 864x288 with 2 Axes>"
      ]
     },
     "metadata": {
      "needs_background": "light"
     },
     "output_type": "display_data"
    }
   ],
   "source": [
    "fig, ax = plt.subplots(1, 2, figsize = (12, 4))\n",
    "\n",
    "ax[0].hist(train['lexdiv_wordfreq'])\n",
    "ax[0].set_title('Freq/Diversity Distribution')\n",
    "ax[1].scatter(train['lexdiv_wordfreq'], train.target)\n",
    "ax[1].set_title('Freq/Diversity Scatter');"
   ]
  },
  {
   "cell_type": "code",
   "execution_count": 65,
   "metadata": {},
   "outputs": [
    {
     "data": {
      "text/plain": [
       "target   -0.00391\n",
       "Name: lexdiv_wordfreq, dtype: float64"
      ]
     },
     "execution_count": 65,
     "metadata": {},
     "output_type": "execute_result"
    }
   ],
   "source": [
    "train.corr()[['target']].sort_values('target').loc['lexdiv_wordfreq']"
   ]
  },
  {
   "cell_type": "markdown",
   "metadata": {},
   "source": [
    "**Interpretation**\n",
    "\n",
    "It would make sense that the interaction of a positively and a negatively correlated feature would, on the surface level, cancel out the correlation. However, I will leave it in and perform manual selection when modeling to see the affects."
   ]
  },
  {
   "cell_type": "markdown",
   "metadata": {},
   "source": [
    "<a id='topicmodel'></a>\n",
    "\n",
    "\n",
    "## Topic Modeling"
   ]
  },
  {
   "cell_type": "markdown",
   "metadata": {},
   "source": [
    "**Lemmatizing words rather than stemming to preserve word form and interpretability**"
   ]
  },
  {
   "cell_type": "code",
   "execution_count": 66,
   "metadata": {},
   "outputs": [],
   "source": [
    "stemmed_df_words = train.excerpt.map(lambda x: ' '.join([word.lemma_ for word in x]))\n",
    "stemmed_test = test['excerpt'].map(lambda x: ' '.join([word.lemma_ for word in x]))"
   ]
  },
  {
   "cell_type": "markdown",
   "metadata": {},
   "source": [
    "Converting data into a word vector matrix"
   ]
  },
  {
   "cell_type": "code",
   "execution_count": 67,
   "metadata": {},
   "outputs": [],
   "source": [
    "tvec = TfidfVectorizer(stop_words = 'english',\n",
    "                       strip_accents = 'ascii',\n",
    "                       max_features = 120,\n",
    "                       max_df = .20,\n",
    "                       norm = 'l2')"
   ]
  },
  {
   "cell_type": "code",
   "execution_count": 68,
   "metadata": {},
   "outputs": [],
   "source": [
    "tvec.fit(stemmed_df_words)\n",
    "\n",
    "lemmed_df = pd.DataFrame(tvec.transform(stemmed_df_words).todense(),\n",
    "                  columns = tvec.get_feature_names())\n",
    "lemmed_test = pd.DataFrame(tvec.transform(stemmed_test).todense(),\n",
    "                  columns = tvec.get_feature_names())"
   ]
  },
  {
   "cell_type": "markdown",
   "metadata": {},
   "source": [
    "**Creating the Topic Data with LDA**"
   ]
  },
  {
   "cell_type": "code",
   "execution_count": 69,
   "metadata": {},
   "outputs": [],
   "source": [
    "#Code modified from Yanlin Chen | How to generate an LDA Topic Model for Text Analysis\n",
    "\n",
    "lda_model = LatentDirichletAllocation(n_components= 5, \n",
    "                                      n_jobs = -1, \n",
    "                                      learning_method = 'online', random_state = 42)\n",
    "\n",
    "lda_results = lda_model.fit_transform(lemmed_df)\n",
    "lda_test = lda_model.transform(lemmed_test)\n",
    "\n",
    "topicnames = ['Topic' + str(i) for i in range(5)]\n",
    "\n",
    "topic_df = pd.DataFrame(lda_results, columns=topicnames)\n",
    "topic_test = pd.DataFrame(lda_test, columns=topicnames)\n"
   ]
  },
  {
   "cell_type": "code",
   "execution_count": 70,
   "metadata": {},
   "outputs": [
    {
     "data": {
      "text/html": [
       "<div>\n",
       "<style scoped>\n",
       "    .dataframe tbody tr th:only-of-type {\n",
       "        vertical-align: middle;\n",
       "    }\n",
       "\n",
       "    .dataframe tbody tr th {\n",
       "        vertical-align: top;\n",
       "    }\n",
       "\n",
       "    .dataframe thead th {\n",
       "        text-align: right;\n",
       "    }\n",
       "</style>\n",
       "<table border=\"1\" class=\"dataframe\">\n",
       "  <thead>\n",
       "    <tr style=\"text-align: right;\">\n",
       "      <th></th>\n",
       "      <th>air</th>\n",
       "      <th>animal</th>\n",
       "      <th>ask</th>\n",
       "      <th>away</th>\n",
       "      <th>bear</th>\n",
       "      <th>begin</th>\n",
       "      <th>big</th>\n",
       "      <th>bird</th>\n",
       "      <th>body</th>\n",
       "      <th>boy</th>\n",
       "      <th>...</th>\n",
       "      <th>war</th>\n",
       "      <th>water</th>\n",
       "      <th>way</th>\n",
       "      <th>white</th>\n",
       "      <th>woman</th>\n",
       "      <th>word</th>\n",
       "      <th>work</th>\n",
       "      <th>world</th>\n",
       "      <th>year</th>\n",
       "      <th>young</th>\n",
       "    </tr>\n",
       "  </thead>\n",
       "  <tbody>\n",
       "    <tr>\n",
       "      <th>Topic0</th>\n",
       "      <td>19.385975</td>\n",
       "      <td>0.202957</td>\n",
       "      <td>15.398220</td>\n",
       "      <td>48.337586</td>\n",
       "      <td>24.519474</td>\n",
       "      <td>35.088137</td>\n",
       "      <td>22.377617</td>\n",
       "      <td>36.015129</td>\n",
       "      <td>0.446085</td>\n",
       "      <td>18.113500</td>\n",
       "      <td>...</td>\n",
       "      <td>0.202893</td>\n",
       "      <td>42.030267</td>\n",
       "      <td>43.932152</td>\n",
       "      <td>31.523117</td>\n",
       "      <td>22.239418</td>\n",
       "      <td>9.539947</td>\n",
       "      <td>17.274575</td>\n",
       "      <td>14.373628</td>\n",
       "      <td>16.232413</td>\n",
       "      <td>22.569996</td>\n",
       "    </tr>\n",
       "    <tr>\n",
       "      <th>Topic1</th>\n",
       "      <td>0.231616</td>\n",
       "      <td>0.206602</td>\n",
       "      <td>41.449738</td>\n",
       "      <td>25.986475</td>\n",
       "      <td>23.333748</td>\n",
       "      <td>27.790069</td>\n",
       "      <td>23.159229</td>\n",
       "      <td>0.205570</td>\n",
       "      <td>0.201429</td>\n",
       "      <td>61.269186</td>\n",
       "      <td>...</td>\n",
       "      <td>0.215306</td>\n",
       "      <td>6.223016</td>\n",
       "      <td>24.859324</td>\n",
       "      <td>14.435536</td>\n",
       "      <td>22.401960</td>\n",
       "      <td>16.214268</td>\n",
       "      <td>31.285181</td>\n",
       "      <td>7.004020</td>\n",
       "      <td>39.865703</td>\n",
       "      <td>34.282691</td>\n",
       "    </tr>\n",
       "    <tr>\n",
       "      <th>Topic2</th>\n",
       "      <td>0.202119</td>\n",
       "      <td>1.330157</td>\n",
       "      <td>0.204408</td>\n",
       "      <td>0.212076</td>\n",
       "      <td>0.205774</td>\n",
       "      <td>0.205660</td>\n",
       "      <td>0.214849</td>\n",
       "      <td>0.202810</td>\n",
       "      <td>40.405056</td>\n",
       "      <td>0.201243</td>\n",
       "      <td>...</td>\n",
       "      <td>0.200456</td>\n",
       "      <td>0.204624</td>\n",
       "      <td>7.178529</td>\n",
       "      <td>0.271465</td>\n",
       "      <td>0.202736</td>\n",
       "      <td>0.285371</td>\n",
       "      <td>8.355472</td>\n",
       "      <td>0.210557</td>\n",
       "      <td>0.756994</td>\n",
       "      <td>0.203740</td>\n",
       "    </tr>\n",
       "    <tr>\n",
       "      <th>Topic3</th>\n",
       "      <td>40.386335</td>\n",
       "      <td>59.264319</td>\n",
       "      <td>1.759675</td>\n",
       "      <td>3.474970</td>\n",
       "      <td>4.422534</td>\n",
       "      <td>5.173858</td>\n",
       "      <td>14.249235</td>\n",
       "      <td>11.646575</td>\n",
       "      <td>8.502014</td>\n",
       "      <td>0.200995</td>\n",
       "      <td>...</td>\n",
       "      <td>0.200808</td>\n",
       "      <td>77.137747</td>\n",
       "      <td>11.209607</td>\n",
       "      <td>21.574187</td>\n",
       "      <td>0.202714</td>\n",
       "      <td>0.998609</td>\n",
       "      <td>4.526348</td>\n",
       "      <td>17.149659</td>\n",
       "      <td>23.339139</td>\n",
       "      <td>5.783613</td>\n",
       "    </tr>\n",
       "    <tr>\n",
       "      <th>Topic4</th>\n",
       "      <td>0.203578</td>\n",
       "      <td>0.329215</td>\n",
       "      <td>4.750221</td>\n",
       "      <td>3.554877</td>\n",
       "      <td>1.867253</td>\n",
       "      <td>11.337012</td>\n",
       "      <td>7.786422</td>\n",
       "      <td>0.200673</td>\n",
       "      <td>0.343012</td>\n",
       "      <td>0.201066</td>\n",
       "      <td>...</td>\n",
       "      <td>70.837125</td>\n",
       "      <td>0.222444</td>\n",
       "      <td>23.828898</td>\n",
       "      <td>0.204616</td>\n",
       "      <td>0.267924</td>\n",
       "      <td>32.222622</td>\n",
       "      <td>39.505813</td>\n",
       "      <td>43.849254</td>\n",
       "      <td>37.393510</td>\n",
       "      <td>5.543217</td>\n",
       "    </tr>\n",
       "  </tbody>\n",
       "</table>\n",
       "<p>5 rows × 120 columns</p>\n",
       "</div>"
      ],
      "text/plain": [
       "              air     animal        ask       away       bear      begin  \\\n",
       "Topic0  19.385975   0.202957  15.398220  48.337586  24.519474  35.088137   \n",
       "Topic1   0.231616   0.206602  41.449738  25.986475  23.333748  27.790069   \n",
       "Topic2   0.202119   1.330157   0.204408   0.212076   0.205774   0.205660   \n",
       "Topic3  40.386335  59.264319   1.759675   3.474970   4.422534   5.173858   \n",
       "Topic4   0.203578   0.329215   4.750221   3.554877   1.867253  11.337012   \n",
       "\n",
       "              big       bird       body        boy  ...        war      water  \\\n",
       "Topic0  22.377617  36.015129   0.446085  18.113500  ...   0.202893  42.030267   \n",
       "Topic1  23.159229   0.205570   0.201429  61.269186  ...   0.215306   6.223016   \n",
       "Topic2   0.214849   0.202810  40.405056   0.201243  ...   0.200456   0.204624   \n",
       "Topic3  14.249235  11.646575   8.502014   0.200995  ...   0.200808  77.137747   \n",
       "Topic4   7.786422   0.200673   0.343012   0.201066  ...  70.837125   0.222444   \n",
       "\n",
       "              way      white      woman       word       work      world  \\\n",
       "Topic0  43.932152  31.523117  22.239418   9.539947  17.274575  14.373628   \n",
       "Topic1  24.859324  14.435536  22.401960  16.214268  31.285181   7.004020   \n",
       "Topic2   7.178529   0.271465   0.202736   0.285371   8.355472   0.210557   \n",
       "Topic3  11.209607  21.574187   0.202714   0.998609   4.526348  17.149659   \n",
       "Topic4  23.828898   0.204616   0.267924  32.222622  39.505813  43.849254   \n",
       "\n",
       "             year      young  \n",
       "Topic0  16.232413  22.569996  \n",
       "Topic1  39.865703  34.282691  \n",
       "Topic2   0.756994   0.203740  \n",
       "Topic3  23.339139   5.783613  \n",
       "Topic4  37.393510   5.543217  \n",
       "\n",
       "[5 rows x 120 columns]"
      ]
     },
     "execution_count": 70,
     "metadata": {},
     "output_type": "execute_result"
    }
   ],
   "source": [
    "#Code modified from Yanlin Chen | How to generate an LDA Topic Model for Text Analysis\n",
    "\n",
    "# Topic-Keyword Matrix\n",
    "df_topic_keywords = pd.DataFrame(lda_model.components_)\n",
    "# Assign Column and Index\n",
    "df_topic_keywords.columns = tvec.get_feature_names()\n",
    "df_topic_keywords.index = topicnames\n",
    "# View\n",
    "df_topic_keywords.head()"
   ]
  },
  {
   "cell_type": "code",
   "execution_count": 71,
   "metadata": {},
   "outputs": [
    {
     "data": {
      "text/html": [
       "<div>\n",
       "<style scoped>\n",
       "    .dataframe tbody tr th:only-of-type {\n",
       "        vertical-align: middle;\n",
       "    }\n",
       "\n",
       "    .dataframe tbody tr th {\n",
       "        vertical-align: top;\n",
       "    }\n",
       "\n",
       "    .dataframe thead th {\n",
       "        text-align: right;\n",
       "    }\n",
       "</style>\n",
       "<table border=\"1\" class=\"dataframe\">\n",
       "  <thead>\n",
       "    <tr style=\"text-align: right;\">\n",
       "      <th></th>\n",
       "      <th>Word 0</th>\n",
       "      <th>Word 1</th>\n",
       "      <th>Word 2</th>\n",
       "      <th>Word 3</th>\n",
       "      <th>Word 4</th>\n",
       "    </tr>\n",
       "  </thead>\n",
       "  <tbody>\n",
       "    <tr>\n",
       "      <th>Topic 0</th>\n",
       "      <td>man</td>\n",
       "      <td>look</td>\n",
       "      <td>foot</td>\n",
       "      <td>stand</td>\n",
       "      <td>tree</td>\n",
       "    </tr>\n",
       "    <tr>\n",
       "      <th>Topic 1</th>\n",
       "      <td>mother</td>\n",
       "      <td>mr</td>\n",
       "      <td>old</td>\n",
       "      <td>boy</td>\n",
       "      <td>play</td>\n",
       "    </tr>\n",
       "    <tr>\n",
       "      <th>Topic 2</th>\n",
       "      <td>brain</td>\n",
       "      <td>cell</td>\n",
       "      <td>body</td>\n",
       "      <td>different</td>\n",
       "      <td>matter</td>\n",
       "    </tr>\n",
       "    <tr>\n",
       "      <th>Topic 3</th>\n",
       "      <td>water</td>\n",
       "      <td>earth</td>\n",
       "      <td>animal</td>\n",
       "      <td>plant</td>\n",
       "      <td>food</td>\n",
       "    </tr>\n",
       "    <tr>\n",
       "      <th>Topic 4</th>\n",
       "      <td>people</td>\n",
       "      <td>war</td>\n",
       "      <td>power</td>\n",
       "      <td>state</td>\n",
       "      <td>country</td>\n",
       "    </tr>\n",
       "  </tbody>\n",
       "</table>\n",
       "</div>"
      ],
      "text/plain": [
       "         Word 0 Word 1  Word 2     Word 3   Word 4\n",
       "Topic 0     man   look    foot      stand     tree\n",
       "Topic 1  mother     mr     old        boy     play\n",
       "Topic 2   brain   cell    body  different   matter\n",
       "Topic 3   water  earth  animal      plant     food\n",
       "Topic 4  people    war   power      state  country"
      ]
     },
     "execution_count": 71,
     "metadata": {},
     "output_type": "execute_result"
    }
   ],
   "source": [
    "#Code modified from Yanlin Chen | How to generate an LDA Topic Model for Text Analysis\n",
    "\n",
    "def show_topics(vectorizer=TfidfVectorizer, \n",
    "                lda_model=lda_model, n_words=5,\n",
    "                learning_method = 'online'):\n",
    "    keywords = np.array(tvec.get_feature_names())\n",
    "    topic_keywords = []\n",
    "    for topic_weights in lda_model.components_:\n",
    "        top_keyword_locs = (-topic_weights).argsort()[:n_words]\n",
    "        topic_keywords.append(keywords.take(top_keyword_locs))\n",
    "    return topic_keywords\n",
    "\n",
    "\n",
    "topic_keywords = show_topics(vectorizer=TfidfVectorizer, lda_model=lda_model, n_words=5)\n",
    "\n",
    "# Topic - Keywords Dataframe\n",
    "df_topic_keywords = pd.DataFrame(topic_keywords)\n",
    "df_topic_keywords.columns = ['Word '+str(i) for i in range(df_topic_keywords.shape[1])]\n",
    "df_topic_keywords.index = ['Topic '+str(i) for i in range(df_topic_keywords.shape[0])]\n",
    "df_topic_keywords"
   ]
  },
  {
   "cell_type": "code",
   "execution_count": 72,
   "metadata": {},
   "outputs": [],
   "source": [
    "topic_names = {'Topic0': 'Outdoors',\n",
    "                      'Topic1':'Family',\n",
    "                      'Topic2':'Science',\n",
    "                      'Topic3':'Nature',\n",
    "                      'Topic4':'War'}\n",
    "\n",
    "topic_df.columns = topic_df.columns.map(topic_names)\n",
    "\n",
    "topic_test.columns = topic_test.columns.map(topic_names)"
   ]
  },
  {
   "cell_type": "markdown",
   "metadata": {},
   "source": [
    "**Final Preparation for Export and Modeling**"
   ]
  },
  {
   "cell_type": "code",
   "execution_count": 73,
   "metadata": {},
   "outputs": [],
   "source": [
    "train = pd.concat([train, topic_df], axis=1)\n",
    "test = pd.concat([test, topic_test], axis=1)"
   ]
  },
  {
   "cell_type": "code",
   "execution_count": 74,
   "metadata": {},
   "outputs": [],
   "source": [
    "train = train.drop(columns = ['url_legal', 'license', 'excerpt'])\n",
    "test = test.drop(columns = ['url_legal', 'license', 'excerpt'])"
   ]
  },
  {
   "cell_type": "code",
   "execution_count": 75,
   "metadata": {},
   "outputs": [],
   "source": [
    "# plt.subplots(figsize=(30,30))\n",
    "# sns.heatmap(train.corr(),\n",
    "#             vmin = -1,\n",
    "#             vmax = 1, \n",
    "#            annot = True);"
   ]
  },
  {
   "cell_type": "code",
   "execution_count": 76,
   "metadata": {},
   "outputs": [],
   "source": [
    "train.to_csv('./data/train_cleaned.csv', index = False)\n",
    "test.to_csv('./data/test_cleaned.csv', index = False)"
   ]
  }
 ],
 "metadata": {
  "kernelspec": {
   "display_name": "Python 3",
   "language": "python",
   "name": "python3"
  },
  "language_info": {
   "codemirror_mode": {
    "name": "ipython",
    "version": 3
   },
   "file_extension": ".py",
   "mimetype": "text/x-python",
   "name": "python",
   "nbconvert_exporter": "python",
   "pygments_lexer": "ipython3",
   "version": "3.8.5"
  }
 },
 "nbformat": 4,
 "nbformat_minor": 4
}
