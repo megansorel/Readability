{
 "cells": [
  {
   "cell_type": "code",
   "execution_count": 1,
   "metadata": {},
   "outputs": [],
   "source": [
    "import pandas as pd\n",
    "import numpy as np\n",
    "import matplotlib.pyplot as plt\n",
    "from sklearn.linear_model import LinearRegression, Ridge\n",
    "from sklearn.pipeline import Pipeline\n",
    "from sklearn.ensemble import GradientBoostingRegressor\n",
    "from sklearn.preprocessing import StandardScaler\n",
    "from sklearn.model_selection import train_test_split, GridSearchCV\n",
    "from sklearn.metrics import mean_squared_error\n",
    "from sklearn.decomposition import PCA\n",
    "\n",
    "from tensorflow.keras.models import Sequential\n",
    "from tensorflow.keras.layers import Dense\n",
    "from tensorflow.keras.regularizers import l2\n",
    "from tensorflow.keras.layers import Dropout\n",
    "from tensorflow.keras.callbacks import EarlyStopping\n",
    "\n",
    "np.random.seed(73)"
   ]
  },
  {
   "cell_type": "code",
   "execution_count": 2,
   "metadata": {},
   "outputs": [],
   "source": [
    "train = pd.read_csv('./data/train_cleaned.csv')"
   ]
  },
  {
   "cell_type": "code",
   "execution_count": 3,
   "metadata": {},
   "outputs": [
    {
     "data": {
      "text/plain": [
       "Index(['id', 'target', 'standard_error', 'avg_sent_length', 'subtree_per_sent',\n",
       "       'subtree_len', 'subtree_len_by_num', 'node_types', 'left_dep',\n",
       "       'right_dep', 'total_dep', 'left_dep_dist', 'right_dep_dist', 'dep_dist',\n",
       "       'pron_ratio', 'perf_verbs', 'WRB', 'DT', 'JJ', 'NNS', 'VBD', 'IN', 'NN',\n",
       "       'PRP', 'RB', 'VBN', 'RP', 'CC', 'WDT', 'VBG', 'NNP', 'TO', 'VB', 'MD',\n",
       "       'PRP$', 'VBP', 'EX', 'VBZ', 'PDT', 'JJR', 'NNPS', 'WP', 'POS', 'RBR',\n",
       "       'RBS', 'JJS', 'WP$', '''', 'unique_tags', 'unique_deps',\n",
       "       'avg_word_freq', 'lexical_diversity', 'lexdiv_wordfreq', 'Outdoors',\n",
       "       'Family', 'Science', 'Nature', 'War'],\n",
       "      dtype='object')"
      ]
     },
     "execution_count": 3,
     "metadata": {},
     "output_type": "execute_result"
    }
   ],
   "source": [
    "# # checking the columns in the data\n",
    "train.columns"
   ]
  },
  {
   "cell_type": "markdown",
   "metadata": {},
   "source": [
    "**Taking out features which had been manually selected to be left out after similar features were seen to perform better**"
   ]
  },
  {
   "cell_type": "code",
   "execution_count": 4,
   "metadata": {},
   "outputs": [],
   "source": [
    "#creating a list of columns to omit from modeling. This allows manual feature selection with additional EDA \n",
    "\n",
    "dont_include = ['target', 'id', 'avg_subj_dep', 'avg_root_dep',\n",
    "                'avg_dobj_dep', 'left_token_dist', 'standard_error', 'left_dep',\n",
    "                'right_dep', 'left_dep_dist','right_dep_dist',\n",
    "                \"''\", 'HYPH', '.', 'FW', 'perf_verbs',\n",
    "                '-LRB-', ':', 'LS', 'SYM',\n",
    "                '``', '-RRB-', 'WP$', 'POS',\n",
    "                'WRB', 'JJS', 'DT', 'RBS']"
   ]
  },
  {
   "cell_type": "code",
   "execution_count": 5,
   "metadata": {},
   "outputs": [],
   "source": [
    "features = [column for column in train.columns if column not in dont_include]\n",
    "# features"
   ]
  },
  {
   "cell_type": "code",
   "execution_count": 6,
   "metadata": {},
   "outputs": [],
   "source": [
    "X = train[features]\n",
    "y = train['target']"
   ]
  },
  {
   "cell_type": "code",
   "execution_count": 7,
   "metadata": {},
   "outputs": [],
   "source": [
    "X_train, X_test, y_train, y_test = train_test_split(X, y, random_state = 73)"
   ]
  },
  {
   "cell_type": "code",
   "execution_count": 8,
   "metadata": {},
   "outputs": [],
   "source": [
    "# # double checking the columns are correct \n",
    "#X_train.columns"
   ]
  },
  {
   "cell_type": "code",
   "execution_count": 9,
   "metadata": {},
   "outputs": [
    {
     "data": {
      "text/plain": [
       "(2125, 43)"
      ]
     },
     "execution_count": 9,
     "metadata": {},
     "output_type": "execute_result"
    }
   ],
   "source": [
    "X_train.shape"
   ]
  },
  {
   "cell_type": "markdown",
   "metadata": {},
   "source": [
    "# Baseline"
   ]
  },
  {
   "cell_type": "code",
   "execution_count": 10,
   "metadata": {},
   "outputs": [
    {
     "data": {
      "text/plain": [
       "1.0555105291565372"
      ]
     },
     "execution_count": 10,
     "metadata": {},
     "output_type": "execute_result"
    }
   ],
   "source": [
    "# use mean as the baseline \n",
    "\n",
    "preds = y_train.mean()\n",
    "\n",
    "mean_squared_error(y_train,\n",
    "                   #the mean an array of the same length as the true values\n",
    "                   np.tile(preds, y_train.shape[0]))"
   ]
  },
  {
   "cell_type": "code",
   "execution_count": 11,
   "metadata": {},
   "outputs": [],
   "source": [
    "# https://stackoverflow.com/questions/6959477/how-to-create-an-array-of-specified-dimension-of-specific-type-initialized-with"
   ]
  },
  {
   "cell_type": "code",
   "execution_count": 12,
   "metadata": {},
   "outputs": [
    {
     "data": {
      "text/html": [
       "<div>\n",
       "<style scoped>\n",
       "    .dataframe tbody tr th:only-of-type {\n",
       "        vertical-align: middle;\n",
       "    }\n",
       "\n",
       "    .dataframe tbody tr th {\n",
       "        vertical-align: top;\n",
       "    }\n",
       "\n",
       "    .dataframe thead th {\n",
       "        text-align: right;\n",
       "    }\n",
       "</style>\n",
       "<table border=\"1\" class=\"dataframe\">\n",
       "  <thead>\n",
       "    <tr style=\"text-align: right;\">\n",
       "      <th></th>\n",
       "      <th>results</th>\n",
       "      <th>target</th>\n",
       "    </tr>\n",
       "  </thead>\n",
       "  <tbody>\n",
       "    <tr>\n",
       "      <th>0</th>\n",
       "      <td>-79.300279</td>\n",
       "      <td>-0.340259</td>\n",
       "    </tr>\n",
       "    <tr>\n",
       "      <th>1</th>\n",
       "      <td>-69.068256</td>\n",
       "      <td>-0.315372</td>\n",
       "    </tr>\n",
       "    <tr>\n",
       "      <th>2</th>\n",
       "      <td>-68.230294</td>\n",
       "      <td>-0.580118</td>\n",
       "    </tr>\n",
       "    <tr>\n",
       "      <th>3</th>\n",
       "      <td>-60.216463</td>\n",
       "      <td>-1.054013</td>\n",
       "    </tr>\n",
       "    <tr>\n",
       "      <th>4</th>\n",
       "      <td>-29.272041</td>\n",
       "      <td>0.247197</td>\n",
       "    </tr>\n",
       "  </tbody>\n",
       "</table>\n",
       "</div>"
      ],
      "text/plain": [
       "     results    target\n",
       "0 -79.300279 -0.340259\n",
       "1 -69.068256 -0.315372\n",
       "2 -68.230294 -0.580118\n",
       "3 -60.216463 -1.054013\n",
       "4 -29.272041  0.247197"
      ]
     },
     "execution_count": 12,
     "metadata": {},
     "output_type": "execute_result"
    }
   ],
   "source": [
    "old_readability = pd.read_csv('./data/old_readability_train.csv')\n",
    "old_readability.head()"
   ]
  },
  {
   "cell_type": "code",
   "execution_count": 13,
   "metadata": {},
   "outputs": [],
   "source": [
    "old_X = old_readability[['results']]\n",
    "old_y = old_readability.target"
   ]
  },
  {
   "cell_type": "code",
   "execution_count": 14,
   "metadata": {},
   "outputs": [],
   "source": [
    "old_X_train, old_X_test, old_y_train, old_y_test = train_test_split(old_X, old_y, random_state = 73)"
   ]
  },
  {
   "cell_type": "code",
   "execution_count": 15,
   "metadata": {},
   "outputs": [
    {
     "name": "stdout",
     "output_type": "stream",
     "text": [
      "Test r2: 0.16927453794243275\n",
      "Train r2: 0.16026900698741264\n",
      "Test MSE: 0.9180067547746521\n"
     ]
    }
   ],
   "source": [
    "ss = StandardScaler()\n",
    "old_X_train = ss.fit_transform(old_X_train)\n",
    "old_X_test = ss.transform(old_X_test)\n",
    "\n",
    "lr = LinearRegression()\n",
    "\n",
    "model = lr.fit(old_X_train, old_y_train)\n",
    "\n",
    "old_preds = model.predict(old_X_test)\n",
    "\n",
    "print('Test r2:', model.score(old_X_test, old_y_test))\n",
    "print('Train r2:', model.score(old_X_train, old_y_train))\n",
    "print('Test MSE:', mean_squared_error(old_y_test, old_preds))"
   ]
  },
  {
   "cell_type": "markdown",
   "metadata": {},
   "source": [
    "# Regression Models "
   ]
  },
  {
   "cell_type": "code",
   "execution_count": 16,
   "metadata": {},
   "outputs": [
    {
     "name": "stdout",
     "output_type": "stream",
     "text": [
      "Test r2: 0.46213641923864046\n",
      "Train r2: 0.46291554570031335\n",
      "Test MSE: 0.5943749443567593\n"
     ]
    }
   ],
   "source": [
    "# Simple Linear Regression model with scaling\n",
    "\n",
    "ss = StandardScaler()\n",
    "X_train_sc = ss.fit_transform(X_train)\n",
    "X_test_sc = ss.transform(X_test)\n",
    "\n",
    "lr = LinearRegression()\n",
    "\n",
    "model = lr.fit(X_train_sc, y_train)\n",
    "\n",
    "preds = model.predict(X_test_sc)\n",
    "\n",
    "print('Test r2:', model.score(X_test_sc, y_test))\n",
    "print('Train r2:', model.score(X_train_sc, y_train))\n",
    "print('Test MSE:', mean_squared_error(y_test, preds))"
   ]
  },
  {
   "cell_type": "code",
   "execution_count": 17,
   "metadata": {},
   "outputs": [
    {
     "data": {
      "text/plain": [
       "{'model__alpha': 10}"
      ]
     },
     "execution_count": 17,
     "metadata": {},
     "output_type": "execute_result"
    }
   ],
   "source": [
    "# Ridge Regession and Gridsearching for alpha\n",
    "\n",
    "pipe = Pipeline([\n",
    "    ('ss', StandardScaler()),\n",
    "    ('model', Ridge())])\n",
    "\n",
    "\n",
    "params = {\n",
    "    'model__alpha': [0.1, 1, 10]\n",
    "}\n",
    "\n",
    "gs = GridSearchCV(pipe, params)\n",
    "\n",
    "gs.fit(X_train, y_train)\n",
    "\n",
    "gs.best_params_"
   ]
  },
  {
   "cell_type": "code",
   "execution_count": 18,
   "metadata": {},
   "outputs": [
    {
     "name": "stdout",
     "output_type": "stream",
     "text": [
      "Test r2: 0.4628922378134487\n",
      "Train r2: 0.4628005666798246\n",
      "MSE: 0.5935397146825182\n"
     ]
    }
   ],
   "source": [
    "# modeling with best Ridge Alpha\n",
    "\n",
    "pipe = Pipeline([\n",
    "    ('ss', StandardScaler()),\n",
    "    ('model', Ridge(alpha = 10))])\n",
    "\n",
    "pipe.fit(X_train, y_train)\n",
    "pipe.score(X_train, y_train)\n",
    "preds = pipe.predict(X_test)\n",
    "\n",
    "print('Test r2:', pipe.score(X_test, y_test))\n",
    "print('Train r2:', pipe.score(X_train, y_train))\n",
    "print('MSE:',mean_squared_error(y_test, preds))"
   ]
  },
  {
   "cell_type": "code",
   "execution_count": 19,
   "metadata": {},
   "outputs": [
    {
     "name": "stdout",
     "output_type": "stream",
     "text": [
      "Test: 0.490192539990001\n",
      "Train: 0.654271583624739\n"
     ]
    },
    {
     "data": {
      "text/plain": [
       "0.5633710693837571"
      ]
     },
     "execution_count": 19,
     "metadata": {},
     "output_type": "execute_result"
    }
   ],
   "source": [
    "# Gradient Boosting Regressor \n",
    "\n",
    "gbr = GradientBoostingRegressor()\n",
    "model = gbr.fit(X_train_sc, y_train)\n",
    "preds = model.predict(X_test_sc)\n",
    "print('Test:', model.score(X_test_sc, y_test))\n",
    "print('Train:', model.score(X_train_sc, y_train))\n",
    "mean_squared_error(y_test, preds)"
   ]
  },
  {
   "cell_type": "markdown",
   "metadata": {},
   "source": [
    "## PCA"
   ]
  },
  {
   "cell_type": "code",
   "execution_count": 20,
   "metadata": {},
   "outputs": [
    {
     "data": {
      "text/plain": [
       "(2125, 43)"
      ]
     },
     "execution_count": 20,
     "metadata": {},
     "output_type": "execute_result"
    }
   ],
   "source": [
    "X_train.shape"
   ]
  },
  {
   "cell_type": "code",
   "execution_count": 21,
   "metadata": {},
   "outputs": [],
   "source": [
    "ss = StandardScaler()\n",
    "X_train_sc = ss.fit_transform(X_train)\n",
    "X_test_sc = ss.transform(X_test)"
   ]
  },
  {
   "cell_type": "code",
   "execution_count": 22,
   "metadata": {},
   "outputs": [],
   "source": [
    "pca = PCA(n_components=28)\n",
    "X_train_p = pca.fit_transform(X_train_sc)\n",
    "X_test_p = pca.transform(X_test_sc)"
   ]
  },
  {
   "cell_type": "code",
   "execution_count": 23,
   "metadata": {},
   "outputs": [
    {
     "data": {
      "text/plain": [
       "0.9381807215546035"
      ]
     },
     "execution_count": 23,
     "metadata": {},
     "output_type": "execute_result"
    }
   ],
   "source": [
    "sum([item for item in pca.explained_variance_ratio_])"
   ]
  },
  {
   "cell_type": "code",
   "execution_count": 24,
   "metadata": {},
   "outputs": [
    {
     "data": {
      "text/plain": [
       "{'model__alpha': 100}"
      ]
     },
     "execution_count": 24,
     "metadata": {},
     "output_type": "execute_result"
    }
   ],
   "source": [
    "pipe = Pipeline([\n",
    "    ('model', Ridge())])\n",
    "\n",
    "\n",
    "params = {\n",
    "    'model__alpha': [0.1, 1.0, 10, 100]    \n",
    "}\n",
    "\n",
    "gs = GridSearchCV(pipe, params, verbose = 0)\n",
    "gs.fit(X_train_p, y_train)\n",
    "gs.best_params_"
   ]
  },
  {
   "cell_type": "code",
   "execution_count": 25,
   "metadata": {},
   "outputs": [
    {
     "name": "stdout",
     "output_type": "stream",
     "text": [
      "Test: 0.4609202791784336\n",
      "Train: 0.4388851192530273\n",
      "MSE: 0.5957188598150104\n"
     ]
    }
   ],
   "source": [
    "pipe = Pipeline([\n",
    "    ('model', Ridge(alpha = 100))])\n",
    "\n",
    "pipe.fit(X_train_p, y_train)\n",
    "pipe.score(X_train_p, y_train)\n",
    "preds = pipe.predict(X_test_p)\n",
    "print('Test:', pipe.score(X_test_p, y_test))\n",
    "print('Train:', pipe.score(X_train_p, y_train))\n",
    "print('MSE:', mean_squared_error(y_test, preds))"
   ]
  },
  {
   "cell_type": "code",
   "execution_count": 26,
   "metadata": {},
   "outputs": [
    {
     "name": "stdout",
     "output_type": "stream",
     "text": [
      "Test: 0.4518100846762678\n",
      "Train: 0.6411890270575713\n"
     ]
    },
    {
     "data": {
      "text/plain": [
       "0.6057862292075228"
      ]
     },
     "execution_count": 26,
     "metadata": {},
     "output_type": "execute_result"
    }
   ],
   "source": [
    "gbr = GradientBoostingRegressor()\n",
    "model = gbr.fit(X_train_p, y_train)\n",
    "preds = model.predict(X_test_p)\n",
    "print('Test:', model.score(X_test_p, y_test))\n",
    "print('Train:', model.score(X_train_p, y_train))\n",
    "mean_squared_error(y_test, preds)"
   ]
  },
  {
   "cell_type": "code",
   "execution_count": 27,
   "metadata": {},
   "outputs": [],
   "source": [
    "residuals = y_test - preds"
   ]
  },
  {
   "cell_type": "code",
   "execution_count": 28,
   "metadata": {},
   "outputs": [
    {
     "data": {
      "image/png": "[encoded data removed]",
      "text/plain": [
       "<Figure size 432x288 with 1 Axes>"
      ]
     },
     "metadata": {
      "needs_background": "light"
     },
     "output_type": "display_data"
    }
   ],
   "source": [
    "residuals.hist();"
   ]
  },
  {
   "cell_type": "code",
   "execution_count": 29,
   "metadata": {},
   "outputs": [
    {
     "data": {
      "image/png": "[encoded data removed]",
      "text/plain": [
       "<Figure size 432x288 with 1 Axes>"
      ]
     },
     "metadata": {
      "needs_background": "light"
     },
     "output_type": "display_data"
    }
   ],
   "source": [
    "# visualizations of current readability to my model\n",
    "\n",
    "r2_values = (0.16026900698741264, 0.4388851192530273)\n",
    "plt.bar(x = ['Old Readability Model', 'New Readability Model'], height = r2_values);"
   ]
  },
  {
   "cell_type": "markdown",
   "metadata": {},
   "source": [
    "# Nueral Networks"
   ]
  },
  {
   "cell_type": "code",
   "execution_count": 31,
   "metadata": {},
   "outputs": [],
   "source": [
    "n_input = X_train_p.shape[1]"
   ]
  },
  {
   "cell_type": "code",
   "execution_count": 32,
   "metadata": {},
   "outputs": [],
   "source": [
    "model = Sequential()\n",
    "model.add(Dense(64, input_dim = n_input, activation = 'relu'))\n",
    "# model.add(Dense(32, activation = 'relu'))\n",
    "\n",
    "\n",
    "model.add(Dense(1, activation = None))"
   ]
  },
  {
   "cell_type": "code",
   "execution_count": 33,
   "metadata": {},
   "outputs": [],
   "source": [
    "model.compile(loss = 'mean_squared_error',\n",
    "              optimizer = 'adam',\n",
    "              metrics = ['mse', 'acc'])"
   ]
  },
  {
   "cell_type": "code",
   "execution_count": 34,
   "metadata": {
    "scrolled": true
   },
   "outputs": [],
   "source": [
    "history = model.fit(X_train_p, y_train,\n",
    "         epochs = 500,\n",
    "         batch_size = 1024,\n",
    "          validation_data = (X_test_p, y_test), \n",
    "          verbose = 0\n",
    "         )"
   ]
  },
  {
   "cell_type": "code",
   "execution_count": 35,
   "metadata": {},
   "outputs": [
    {
     "data": {
      "image/png": "[encoded data removed]",
      "text/plain": [
       "<Figure size 576x360 with 1 Axes>"
      ]
     },
     "metadata": {
      "needs_background": "light"
     },
     "output_type": "display_data"
    }
   ],
   "source": [
    "train_loss = history.history['loss']\n",
    "test_loss = history.history['val_loss']\n",
    "plt.figure(figsize=(8, 5))\n",
    "plt.plot(train_loss, label='Training loss', color='navy')\n",
    "plt.plot(test_loss, label='Testing loss', color='skyblue')\n",
    "plt.legend();"
   ]
  },
  {
   "cell_type": "code",
   "execution_count": 36,
   "metadata": {},
   "outputs": [
    {
     "name": "stdout",
     "output_type": "stream",
     "text": [
      "Training mse: 0.286700040102005\n",
      "Testing mse: 0.6982201337814331\n"
     ]
    }
   ],
   "source": [
    "train_loss = history.history['loss']\n",
    "test_loss = history.history['val_loss']\n",
    "print('Training mse:',train_loss[-1])\n",
    "print('Testing mse:',test_loss[-1])"
   ]
  },
  {
   "cell_type": "markdown",
   "metadata": {},
   "source": [
    "**Interpretation**\n",
    "\n",
    "With the model's testing loss diverging so much, early stopping would help; however, first l2 regularization will be implemented to see if we can reduce overfitting to make early stopping more effective."
   ]
  },
  {
   "cell_type": "code",
   "execution_count": 37,
   "metadata": {},
   "outputs": [],
   "source": [
    "l2_model = Sequential()\n",
    "l2_model.add(Dense(64, input_dim = n_input,\n",
    "                activation = 'relu',\n",
    "               kernel_regularizer = l2(0.01)))\n",
    "\n",
    "# l2_model.add(Dense(32, activation = 'relu',\n",
    "#                kernel_regularizer = l2(0.01)))\n",
    "\n",
    "l2_model.add(Dense(1, activation = None))"
   ]
  },
  {
   "cell_type": "code",
   "execution_count": 38,
   "metadata": {},
   "outputs": [],
   "source": [
    "l2_model.compile(loss = 'mean_squared_error',\n",
    "              optimizer = 'adam',\n",
    "              metrics = ['mse', 'acc'])"
   ]
  },
  {
   "cell_type": "code",
   "execution_count": 39,
   "metadata": {},
   "outputs": [],
   "source": [
    "l2_history = l2_model.fit(X_train_p, y_train,\n",
    "         epochs = 100,\n",
    "         batch_size = 1024,\n",
    "          validation_data = (X_test_p, y_test), \n",
    "          verbose = 0\n",
    "         )"
   ]
  },
  {
   "cell_type": "code",
   "execution_count": 40,
   "metadata": {},
   "outputs": [
    {
     "data": {
      "image/png": "[encoded data removed]",
      "text/plain": [
       "<Figure size 864x576 with 1 Axes>"
      ]
     },
     "metadata": {
      "needs_background": "light"
     },
     "output_type": "display_data"
    }
   ],
   "source": [
    "train_loss = l2_history.history['loss']\n",
    "test_loss = l2_history.history['val_loss']\n",
    "plt.figure(figsize=(12, 8))\n",
    "plt.plot(train_loss, label='Training loss', color='navy')\n",
    "plt.plot(test_loss, label='Testing loss', color='skyblue')\n",
    "plt.legend();"
   ]
  },
  {
   "cell_type": "code",
   "execution_count": 41,
   "metadata": {},
   "outputs": [
    {
     "name": "stdout",
     "output_type": "stream",
     "text": [
      "Training mse: 0.6633569002151489\n",
      "Testing mse: 0.7694642543792725\n"
     ]
    }
   ],
   "source": [
    "train_loss = l2_history.history['loss']\n",
    "test_loss = l2_history.history['val_loss']\n",
    "print('Training mse:',train_loss[-1])\n",
    "print('Testing mse:',test_loss[-1])"
   ]
  },
  {
   "cell_type": "markdown",
   "metadata": {},
   "source": [
    "**Interpretation**\n",
    "\n",
    "Regularization did well in handling the overfitting in the previous model version and opens the possibility to reintroduce more epochs and early stopping."
   ]
  },
  {
   "cell_type": "code",
   "execution_count": 42,
   "metadata": {},
   "outputs": [],
   "source": [
    "# #Dropout was set up to see the affect, however l2 was enough. \n",
    "\n",
    "# drop_l2_model = Sequential()\n",
    "# drop_l2_model.add(Dense(64, input_dim = n_input,\n",
    "#                 activation = 'relu',\n",
    "#                kernel_regularizer = l2(0.01)))\n",
    "# drop_l2_model.add(Dropout(0.2))\n",
    "\n",
    "\n",
    "# drop_l2_model.add(Dense(32, activation = 'relu',\n",
    "#                kernel_regularizer = l2(0.01)))\n",
    "# drop_l2_model.add(Dropout(.2))\n",
    "\n",
    "\n",
    "# drop_l2_model.add(Dense(1, activation = None))\n",
    "\n",
    "# drop_l2_model.compile(loss = 'mean_squared_error',\n",
    "#               optimizer = 'adam',\n",
    "#               metrics = ['mse', 'acc'])"
   ]
  },
  {
   "cell_type": "code",
   "execution_count": 43,
   "metadata": {},
   "outputs": [],
   "source": [
    "# drop_l2_history = drop_l2_model.fit(X_train, y_train,\n",
    "#          epochs = 100,\n",
    "#          batch_size = 1024,\n",
    "#           validation_data = (X_test, y_test), \n",
    "#           verbose = 0\n",
    "#          )\n",
    "\n",
    "# train_loss = drop_l2_history.history['loss']\n",
    "# test_loss = drop_l2_history.history['val_loss']\n",
    "# plt.figure(figsize=(12, 8))\n",
    "# plt.plot(train_loss, label='Training loss', color='navy')\n",
    "# plt.plot(test_loss, label='Testing loss', color='skyblue')\n",
    "# plt.legend();"
   ]
  },
  {
   "cell_type": "code",
   "execution_count": 44,
   "metadata": {},
   "outputs": [],
   "source": [
    "# train_loss = drop_l2_history.history['loss']\n",
    "# test_loss = drop_l2_history.history['val_loss']\n",
    "# print('Training mse:',train_loss[-1])\n",
    "# print('Testing mse:',test_loss[-1])"
   ]
  },
  {
   "cell_type": "code",
   "execution_count": 45,
   "metadata": {},
   "outputs": [],
   "source": [
    "# Early Stopping With a higher regularization due to more epochs being reintroduced \n",
    "\n",
    "es_model = Sequential()\n",
    "es_model.add(Dense(64, input_dim = n_input,\n",
    "                activation = 'relu',\n",
    "               kernel_regularizer = l2(0.1)))\n",
    "\n",
    "# l2_model.add(Dense(32, activation = 'relu',\n",
    "#                kernel_regularizer = l2(0.1)))\n",
    "\n",
    "es_model.add(Dense(1, activation = None))\n",
    "\n",
    "es_model.compile(loss = 'mean_squared_error',\n",
    "              optimizer = 'adam',\n",
    "              metrics = ['mse', 'acc'])\n",
    "\n",
    "early_stop = EarlyStopping(monitor = 'mse',\n",
    "                          min_delta = 0,\n",
    "                          patience = 10,\n",
    "                          verbose = 0)"
   ]
  },
  {
   "cell_type": "code",
   "execution_count": 46,
   "metadata": {},
   "outputs": [
    {
     "data": {
      "image/png": "[encoded data removed]",
      "text/plain": [
       "<Figure size 864x576 with 1 Axes>"
      ]
     },
     "metadata": {
      "needs_background": "light"
     },
     "output_type": "display_data"
    }
   ],
   "source": [
    "es_history = es_model.fit(X_train_p, y_train,\n",
    "                                       epochs = 1000,\n",
    "                                       batch_size = 1024,\n",
    "                                       validation_data = (X_test_p, y_test), \n",
    "                                       verbose = 0,\n",
    "                                       callbacks = [early_stop]\n",
    "         )\n",
    "\n",
    "train_loss = es_history.history['loss']\n",
    "test_loss = es_history.history['val_loss']\n",
    "plt.figure(figsize=(12, 8))\n",
    "plt.plot(train_loss, label='Training loss', color='navy')\n",
    "plt.plot(test_loss, label='Testing loss', color='skyblue')\n",
    "plt.legend();"
   ]
  },
  {
   "cell_type": "code",
   "execution_count": 47,
   "metadata": {},
   "outputs": [
    {
     "name": "stdout",
     "output_type": "stream",
     "text": [
      "Training mse: 0.6247401237487793\n",
      "Testing mse: 0.6715319156646729\n"
     ]
    }
   ],
   "source": [
    "train_loss = es_history.history['loss']\n",
    "test_loss = es_history.history['val_loss']\n",
    "print('Training mse:',train_loss[-1])\n",
    "print('Testing mse:',test_loss[-1])"
   ]
  },
  {
   "cell_type": "markdown",
   "metadata": {},
   "source": [
    "**Interpretation**\n",
    "\n",
    "Early stopping helps the performance of the model, however it still slightly underperforms compared to the sklearn models. A higher patience was tried but it led to a quick divergence of the train and test and a worse MSE. \n",
    "\n",
    "I could introduce a gridsearch to find the best regularization and hidden layers to optimize the model. However, since the regression models are outpeforming with minimal hyperparameter tuning, and do better with overfitting, as well as being computationally more efficient, the Ridge model will be the working model."
   ]
  },
  {
   "cell_type": "markdown",
   "metadata": {},
   "source": [
    "# Working Model: Ridge with PCA \n",
    "\n",
    "The production model to predict the final test set is Ridge, alpha 100 with PCA."
   ]
  },
  {
   "cell_type": "code",
   "execution_count": 48,
   "metadata": {},
   "outputs": [],
   "source": [
    "test = pd.read_csv('./data/test_cleaned.csv')"
   ]
  },
  {
   "cell_type": "code",
   "execution_count": 49,
   "metadata": {},
   "outputs": [],
   "source": [
    "test.set_index(keys = 'id', inplace = True)\n",
    "train.set_index(keys = 'id', inplace = True)"
   ]
  },
  {
   "cell_type": "code",
   "execution_count": 50,
   "metadata": {},
   "outputs": [],
   "source": [
    "features = X_train.columns"
   ]
  },
  {
   "cell_type": "code",
   "execution_count": 51,
   "metadata": {},
   "outputs": [
    {
     "data": {
      "text/plain": [
       "Index(['avg_sent_length', 'subtree_per_sent', 'subtree_len',\n",
       "       'subtree_len_by_num', 'node_types', 'total_dep', 'dep_dist',\n",
       "       'pron_ratio', 'JJ', 'NNS', 'VBD', 'IN', 'NN', 'PRP', 'RB', 'VBN', 'RP',\n",
       "       'CC', 'WDT', 'VBG', 'NNP', 'TO', 'VB', 'MD', 'PRP$', 'VBP', 'EX', 'VBZ',\n",
       "       'PDT', 'JJR', 'NNPS', 'WP', 'RBR', 'unique_tags', 'unique_deps',\n",
       "       'avg_word_freq', 'lexical_diversity', 'lexdiv_wordfreq', 'Outdoors',\n",
       "       'Family', 'Science', 'Nature', 'War'],\n",
       "      dtype='object')"
      ]
     },
     "execution_count": 51,
     "metadata": {},
     "output_type": "execute_result"
    }
   ],
   "source": [
    "features"
   ]
  },
  {
   "cell_type": "code",
   "execution_count": 52,
   "metadata": {},
   "outputs": [],
   "source": [
    "def find_missing_test_columns(train, test, fill=True):\n",
    "    '''\n",
    "    Returns the list of missing columns from test that exist in train\n",
    "    Paramters:\n",
    "    train: the dataframe of training data\n",
    "    test:the dataframe of test data\n",
    "    fill=True: adds missing columns to test data and populates with 0 unless specified False\n",
    "    '''\n",
    "    \n",
    "    missing = [col for col in train.columns if col not in test.columns]\n",
    "    if fill==True:\n",
    "        for col in missing:\n",
    "            test[col] = 0\n",
    "    if fill==False:\n",
    "        return missing"
   ]
  },
  {
   "cell_type": "code",
   "execution_count": 53,
   "metadata": {},
   "outputs": [],
   "source": [
    "find_missing_test_columns(train, test, fill=True)"
   ]
  },
  {
   "cell_type": "code",
   "execution_count": 54,
   "metadata": {},
   "outputs": [],
   "source": [
    "X = train[features]\n",
    "X_test = test[features]\n",
    "y = train['target']"
   ]
  },
  {
   "cell_type": "code",
   "execution_count": 55,
   "metadata": {},
   "outputs": [],
   "source": [
    "ss = StandardScaler()\n",
    "X = ss.fit_transform(X)\n",
    "X_test = ss.transform(X_test)"
   ]
  },
  {
   "cell_type": "code",
   "execution_count": 56,
   "metadata": {},
   "outputs": [],
   "source": [
    "pca = PCA(n_components=28)\n",
    "X = pca.fit_transform(X)\n",
    "X_test = pca.transform(X_test)"
   ]
  },
  {
   "cell_type": "code",
   "execution_count": 57,
   "metadata": {},
   "outputs": [],
   "source": [
    "pipe = Pipeline([\n",
    "    ('model', Ridge(alpha = 100))])\n",
    "\n",
    "pipe.fit(X, y)\n",
    "preds = pipe.predict(X_test)"
   ]
  },
  {
   "cell_type": "code",
   "execution_count": 58,
   "metadata": {},
   "outputs": [
    {
     "data": {
      "text/plain": [
       "array([-0.85611498, -0.41169338, -0.26716276, -1.82261474, -1.56381789,\n",
       "       -0.51473553, -0.94646725])"
      ]
     },
     "execution_count": 58,
     "metadata": {},
     "output_type": "execute_result"
    }
   ],
   "source": [
    "preds"
   ]
  },
  {
   "cell_type": "code",
   "execution_count": 59,
   "metadata": {},
   "outputs": [],
   "source": [
    "pred_df = pd.DataFrame({'id':test.index, 'target':preds})"
   ]
  },
  {
   "cell_type": "code",
   "execution_count": 60,
   "metadata": {},
   "outputs": [
    {
     "data": {
      "text/html": [
       "<div>\n",
       "<style scoped>\n",
       "    .dataframe tbody tr th:only-of-type {\n",
       "        vertical-align: middle;\n",
       "    }\n",
       "\n",
       "    .dataframe tbody tr th {\n",
       "        vertical-align: top;\n",
       "    }\n",
       "\n",
       "    .dataframe thead th {\n",
       "        text-align: right;\n",
       "    }\n",
       "</style>\n",
       "<table border=\"1\" class=\"dataframe\">\n",
       "  <thead>\n",
       "    <tr style=\"text-align: right;\">\n",
       "      <th></th>\n",
       "      <th>id</th>\n",
       "      <th>target</th>\n",
       "    </tr>\n",
       "  </thead>\n",
       "  <tbody>\n",
       "    <tr>\n",
       "      <th>0</th>\n",
       "      <td>c0f722661</td>\n",
       "      <td>-0.856115</td>\n",
       "    </tr>\n",
       "    <tr>\n",
       "      <th>1</th>\n",
       "      <td>f0953f0a5</td>\n",
       "      <td>-0.411693</td>\n",
       "    </tr>\n",
       "    <tr>\n",
       "      <th>2</th>\n",
       "      <td>0df072751</td>\n",
       "      <td>-0.267163</td>\n",
       "    </tr>\n",
       "    <tr>\n",
       "      <th>3</th>\n",
       "      <td>04caf4e0c</td>\n",
       "      <td>-1.822615</td>\n",
       "    </tr>\n",
       "    <tr>\n",
       "      <th>4</th>\n",
       "      <td>0e63f8bea</td>\n",
       "      <td>-1.563818</td>\n",
       "    </tr>\n",
       "    <tr>\n",
       "      <th>5</th>\n",
       "      <td>12537fe78</td>\n",
       "      <td>-0.514736</td>\n",
       "    </tr>\n",
       "    <tr>\n",
       "      <th>6</th>\n",
       "      <td>965e592c0</td>\n",
       "      <td>-0.946467</td>\n",
       "    </tr>\n",
       "  </tbody>\n",
       "</table>\n",
       "</div>"
      ],
      "text/plain": [
       "          id    target\n",
       "0  c0f722661 -0.856115\n",
       "1  f0953f0a5 -0.411693\n",
       "2  0df072751 -0.267163\n",
       "3  04caf4e0c -1.822615\n",
       "4  0e63f8bea -1.563818\n",
       "5  12537fe78 -0.514736\n",
       "6  965e592c0 -0.946467"
      ]
     },
     "execution_count": 60,
     "metadata": {},
     "output_type": "execute_result"
    }
   ],
   "source": [
    "pred_df"
   ]
  },
  {
   "cell_type": "code",
   "execution_count": 61,
   "metadata": {},
   "outputs": [],
   "source": [
    "pred_df.to_csv('./data/submission.csv', index = False)"
   ]
  }
 ],
 "metadata": {
  "kernelspec": {
   "display_name": "Python 3",
   "language": "python",
   "name": "python3"
  },
  "language_info": {
   "codemirror_mode": {
    "name": "ipython",
    "version": 3
   },
   "file_extension": ".py",
   "mimetype": "text/x-python",
   "name": "python",
   "nbconvert_exporter": "python",
   "pygments_lexer": "ipython3",
   "version": "3.8.5"
  }
 },
 "nbformat": 4,
 "nbformat_minor": 4
}
